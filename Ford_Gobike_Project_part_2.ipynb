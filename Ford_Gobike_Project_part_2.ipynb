{
 "cells": [
  {
   "cell_type": "markdown",
   "id": "51610f83",
   "metadata": {
    "slideshow": {
     "slide_type": "slide"
    }
   },
   "source": [
    "# Part I - (Ford Gobike  Dataset)\n",
    "## by (Gideon Oba)\n",
    "\n",
    "\n",
    "## Table of Contents\n",
    "<ul>\n",
    "<li><a href=\"#intro\">Introduction</a></li>\n",
    "<li><a href=\"#faults\">Quality Issues Discovered</a></li>\n",
    "<li><a href=\"#cleaning\">Data Cleaning</a></li>\n",
    "<li><a href=\"#eda\">Exploratory Data Analysis</a></li>\n",
    "<li><a href=\"#conclusions\">Conclusions</a></li>\n",
    "<li><a href=\"#limitation\">Project Limitation</a></li> \n",
    "<li><a href=\"#ref\">References</a></li>\n",
    "</ul>\n"
   ]
  },
  {
   "cell_type": "markdown",
   "id": "2af9160d",
   "metadata": {
    "slideshow": {
     "slide_type": "slide"
    }
   },
   "source": [
    "<a id='intro'></a>\n",
    "## Introduction\n",
    "This data set includes information about 183,400 individual rides made in a bike-sharing system covering the greater San Francisco Bay area.\n",
    "The data set contains information regarding:\n",
    "+ Duration – Duration of trip\n",
    "+ Start Date – Includes start date and time\n",
    "+ End Date – Includes end date and time\n",
    "+ Start Station – Includes starting station name and number\n",
    "+ End Station – Includes ending station name and number\n",
    "+ Bike Number – Includes ID number of bike used for the trip\n",
    "+ Member Type – Indicates whether user was a \"registered\" member  or a \"casual\" rider.\n",
    "+ Start and End Coordinates - Includes the longitude and latitude of each start and end station.\n",
    "+ Bike id.\n",
    "\n",
    "From a similar dataset website [Capital Bikeshare](https://ride.capitalbikeshare.com/system-data) these are some question posed about the bike sharing system.\n",
    "\n",
    "+ Which stations are most popular?\n",
    "+ What days of the week are most rides taken on?\n",
    "+ How long does the average trip take?\n",
    "\n",
    "These Project would try to answer these questions and more."
   ]
  },
  {
   "cell_type": "code",
   "execution_count": 1,
   "id": "ee9ed035",
   "metadata": {
    "slideshow": {
     "slide_type": "skip"
    }
   },
   "outputs": [],
   "source": [
    "# Packeages for Data Wrangling and Analysis\n",
    "import pandas as pd\n",
    "import numpy as np\n",
    "\n",
    "# Packages for Data Visualization\n",
    "import matplotlib.pyplot as plt\n",
    "import seaborn as sns\n",
    "%matplotlib inline\n",
    "\n",
    "# Package for working with dates and times\n",
    "import datetime as dt\n",
    "\n",
    "# Package for accessing files on local device from the Jupyter Notebook\n",
    "import os\n",
    "\n",
    "# Package for visualization of maps\n",
    "# pip install folium to access this module\n",
    "import folium\n",
    "from folium import plugins"
   ]
  },
  {
   "cell_type": "code",
   "execution_count": 2,
   "id": "8bf7fef4",
   "metadata": {
    "slideshow": {
     "slide_type": "skip"
    }
   },
   "outputs": [
    {
     "name": "stdout",
     "output_type": "stream",
     "text": [
      "gobike shape: (183412, 16)\n",
      "\n"
     ]
    },
    {
     "data": {
      "text/html": [
       "<div>\n",
       "<style scoped>\n",
       "    .dataframe tbody tr th:only-of-type {\n",
       "        vertical-align: middle;\n",
       "    }\n",
       "\n",
       "    .dataframe tbody tr th {\n",
       "        vertical-align: top;\n",
       "    }\n",
       "\n",
       "    .dataframe thead th {\n",
       "        text-align: right;\n",
       "    }\n",
       "</style>\n",
       "<table border=\"1\" class=\"dataframe\">\n",
       "  <thead>\n",
       "    <tr style=\"text-align: right;\">\n",
       "      <th></th>\n",
       "      <th>duration_sec</th>\n",
       "      <th>start_time</th>\n",
       "      <th>end_time</th>\n",
       "      <th>start_station_id</th>\n",
       "      <th>start_station_name</th>\n",
       "      <th>start_station_latitude</th>\n",
       "      <th>start_station_longitude</th>\n",
       "      <th>end_station_id</th>\n",
       "      <th>end_station_name</th>\n",
       "      <th>end_station_latitude</th>\n",
       "      <th>end_station_longitude</th>\n",
       "      <th>bike_id</th>\n",
       "      <th>user_type</th>\n",
       "      <th>member_birth_year</th>\n",
       "      <th>member_gender</th>\n",
       "      <th>bike_share_for_all_trip</th>\n",
       "    </tr>\n",
       "  </thead>\n",
       "  <tbody>\n",
       "    <tr>\n",
       "      <th>0</th>\n",
       "      <td>52185</td>\n",
       "      <td>2019-02-28 17:32:10.1450</td>\n",
       "      <td>2019-03-01 08:01:55.9750</td>\n",
       "      <td>21.0</td>\n",
       "      <td>Montgomery St BART Station (Market St at 2nd St)</td>\n",
       "      <td>37.789625</td>\n",
       "      <td>-122.400811</td>\n",
       "      <td>13.0</td>\n",
       "      <td>Commercial St at Montgomery St</td>\n",
       "      <td>37.794231</td>\n",
       "      <td>-122.402923</td>\n",
       "      <td>4902</td>\n",
       "      <td>Customer</td>\n",
       "      <td>1984.0</td>\n",
       "      <td>Male</td>\n",
       "      <td>No</td>\n",
       "    </tr>\n",
       "    <tr>\n",
       "      <th>1</th>\n",
       "      <td>42521</td>\n",
       "      <td>2019-02-28 18:53:21.7890</td>\n",
       "      <td>2019-03-01 06:42:03.0560</td>\n",
       "      <td>23.0</td>\n",
       "      <td>The Embarcadero at Steuart St</td>\n",
       "      <td>37.791464</td>\n",
       "      <td>-122.391034</td>\n",
       "      <td>81.0</td>\n",
       "      <td>Berry St at 4th St</td>\n",
       "      <td>37.775880</td>\n",
       "      <td>-122.393170</td>\n",
       "      <td>2535</td>\n",
       "      <td>Customer</td>\n",
       "      <td>NaN</td>\n",
       "      <td>NaN</td>\n",
       "      <td>No</td>\n",
       "    </tr>\n",
       "    <tr>\n",
       "      <th>2</th>\n",
       "      <td>61854</td>\n",
       "      <td>2019-02-28 12:13:13.2180</td>\n",
       "      <td>2019-03-01 05:24:08.1460</td>\n",
       "      <td>86.0</td>\n",
       "      <td>Market St at Dolores St</td>\n",
       "      <td>37.769305</td>\n",
       "      <td>-122.426826</td>\n",
       "      <td>3.0</td>\n",
       "      <td>Powell St BART Station (Market St at 4th St)</td>\n",
       "      <td>37.786375</td>\n",
       "      <td>-122.404904</td>\n",
       "      <td>5905</td>\n",
       "      <td>Customer</td>\n",
       "      <td>1972.0</td>\n",
       "      <td>Male</td>\n",
       "      <td>No</td>\n",
       "    </tr>\n",
       "    <tr>\n",
       "      <th>3</th>\n",
       "      <td>36490</td>\n",
       "      <td>2019-02-28 17:54:26.0100</td>\n",
       "      <td>2019-03-01 04:02:36.8420</td>\n",
       "      <td>375.0</td>\n",
       "      <td>Grove St at Masonic Ave</td>\n",
       "      <td>37.774836</td>\n",
       "      <td>-122.446546</td>\n",
       "      <td>70.0</td>\n",
       "      <td>Central Ave at Fell St</td>\n",
       "      <td>37.773311</td>\n",
       "      <td>-122.444293</td>\n",
       "      <td>6638</td>\n",
       "      <td>Subscriber</td>\n",
       "      <td>1989.0</td>\n",
       "      <td>Other</td>\n",
       "      <td>No</td>\n",
       "    </tr>\n",
       "    <tr>\n",
       "      <th>4</th>\n",
       "      <td>1585</td>\n",
       "      <td>2019-02-28 23:54:18.5490</td>\n",
       "      <td>2019-03-01 00:20:44.0740</td>\n",
       "      <td>7.0</td>\n",
       "      <td>Frank H Ogawa Plaza</td>\n",
       "      <td>37.804562</td>\n",
       "      <td>-122.271738</td>\n",
       "      <td>222.0</td>\n",
       "      <td>10th Ave at E 15th St</td>\n",
       "      <td>37.792714</td>\n",
       "      <td>-122.248780</td>\n",
       "      <td>4898</td>\n",
       "      <td>Subscriber</td>\n",
       "      <td>1974.0</td>\n",
       "      <td>Male</td>\n",
       "      <td>Yes</td>\n",
       "    </tr>\n",
       "  </tbody>\n",
       "</table>\n",
       "</div>"
      ],
      "text/plain": [
       "   duration_sec                start_time                  end_time  \\\n",
       "0         52185  2019-02-28 17:32:10.1450  2019-03-01 08:01:55.9750   \n",
       "1         42521  2019-02-28 18:53:21.7890  2019-03-01 06:42:03.0560   \n",
       "2         61854  2019-02-28 12:13:13.2180  2019-03-01 05:24:08.1460   \n",
       "3         36490  2019-02-28 17:54:26.0100  2019-03-01 04:02:36.8420   \n",
       "4          1585  2019-02-28 23:54:18.5490  2019-03-01 00:20:44.0740   \n",
       "\n",
       "   start_station_id                                start_station_name  \\\n",
       "0              21.0  Montgomery St BART Station (Market St at 2nd St)   \n",
       "1              23.0                     The Embarcadero at Steuart St   \n",
       "2              86.0                           Market St at Dolores St   \n",
       "3             375.0                           Grove St at Masonic Ave   \n",
       "4               7.0                               Frank H Ogawa Plaza   \n",
       "\n",
       "   start_station_latitude  start_station_longitude  end_station_id  \\\n",
       "0               37.789625              -122.400811            13.0   \n",
       "1               37.791464              -122.391034            81.0   \n",
       "2               37.769305              -122.426826             3.0   \n",
       "3               37.774836              -122.446546            70.0   \n",
       "4               37.804562              -122.271738           222.0   \n",
       "\n",
       "                               end_station_name  end_station_latitude  \\\n",
       "0                Commercial St at Montgomery St             37.794231   \n",
       "1                            Berry St at 4th St             37.775880   \n",
       "2  Powell St BART Station (Market St at 4th St)             37.786375   \n",
       "3                        Central Ave at Fell St             37.773311   \n",
       "4                         10th Ave at E 15th St             37.792714   \n",
       "\n",
       "   end_station_longitude  bike_id   user_type  member_birth_year  \\\n",
       "0            -122.402923     4902    Customer             1984.0   \n",
       "1            -122.393170     2535    Customer                NaN   \n",
       "2            -122.404904     5905    Customer             1972.0   \n",
       "3            -122.444293     6638  Subscriber             1989.0   \n",
       "4            -122.248780     4898  Subscriber             1974.0   \n",
       "\n",
       "  member_gender bike_share_for_all_trip  \n",
       "0          Male                      No  \n",
       "1           NaN                      No  \n",
       "2          Male                      No  \n",
       "3         Other                      No  \n",
       "4          Male                     Yes  "
      ]
     },
     "execution_count": 2,
     "metadata": {},
     "output_type": "execute_result"
    }
   ],
   "source": [
    "# Loads the dataset into a DataFrame\n",
    "gobike = pd.read_csv('201902-fordgobike-tripdata.csv')\n",
    "print('gobike shape:', gobike.shape, end='\\n\\n')\n",
    "gobike.head()"
   ]
  },
  {
   "cell_type": "code",
   "execution_count": 3,
   "id": "269d13a2",
   "metadata": {
    "slideshow": {
     "slide_type": "skip"
    }
   },
   "outputs": [
    {
     "name": "stdout",
     "output_type": "stream",
     "text": [
      "<class 'pandas.core.frame.DataFrame'>\n",
      "RangeIndex: 183412 entries, 0 to 183411\n",
      "Data columns (total 16 columns):\n",
      " #   Column                   Non-Null Count   Dtype  \n",
      "---  ------                   --------------   -----  \n",
      " 0   duration_sec             183412 non-null  int64  \n",
      " 1   start_time               183412 non-null  object \n",
      " 2   end_time                 183412 non-null  object \n",
      " 3   start_station_id         183215 non-null  float64\n",
      " 4   start_station_name       183215 non-null  object \n",
      " 5   start_station_latitude   183412 non-null  float64\n",
      " 6   start_station_longitude  183412 non-null  float64\n",
      " 7   end_station_id           183215 non-null  float64\n",
      " 8   end_station_name         183215 non-null  object \n",
      " 9   end_station_latitude     183412 non-null  float64\n",
      " 10  end_station_longitude    183412 non-null  float64\n",
      " 11  bike_id                  183412 non-null  int64  \n",
      " 12  user_type                183412 non-null  object \n",
      " 13  member_birth_year        175147 non-null  float64\n",
      " 14  member_gender            175147 non-null  object \n",
      " 15  bike_share_for_all_trip  183412 non-null  object \n",
      "dtypes: float64(7), int64(2), object(7)\n",
      "memory usage: 22.4+ MB\n"
     ]
    }
   ],
   "source": [
    "# Summary info of the DataFrame\n",
    "gobike.info()"
   ]
  },
  {
   "cell_type": "code",
   "execution_count": 4,
   "id": "806dd2ea",
   "metadata": {
    "slideshow": {
     "slide_type": "skip"
    }
   },
   "outputs": [
    {
     "data": {
      "text/plain": [
       "start_station_id      0.11%\n",
       "start_station_name    0.11%\n",
       "end_station_id        0.11%\n",
       "end_station_name      0.11%\n",
       "member_birth_year     4.51%\n",
       "member_gender         4.51%\n",
       "dtype: object"
      ]
     },
     "execution_count": 4,
     "metadata": {},
     "output_type": "execute_result"
    }
   ],
   "source": [
    "# Checks the percentage of missing data in the data set\n",
    "missing_data = gobike.isnull().sum()* 100/gobike.shape[0]\n",
    "missing_data[missing_data > 0].map(lambda x: '{:.2f}%'.format(x))"
   ]
  },
  {
   "cell_type": "code",
   "execution_count": 5,
   "id": "79252609",
   "metadata": {
    "slideshow": {
     "slide_type": "skip"
    }
   },
   "outputs": [
    {
     "data": {
      "text/html": [
       "<div>\n",
       "<style scoped>\n",
       "    .dataframe tbody tr th:only-of-type {\n",
       "        vertical-align: middle;\n",
       "    }\n",
       "\n",
       "    .dataframe tbody tr th {\n",
       "        vertical-align: top;\n",
       "    }\n",
       "\n",
       "    .dataframe thead th {\n",
       "        text-align: right;\n",
       "    }\n",
       "</style>\n",
       "<table border=\"1\" class=\"dataframe\">\n",
       "  <thead>\n",
       "    <tr style=\"text-align: right;\">\n",
       "      <th></th>\n",
       "      <th>duration_sec</th>\n",
       "      <th>start_station_id</th>\n",
       "      <th>start_station_latitude</th>\n",
       "      <th>start_station_longitude</th>\n",
       "      <th>end_station_id</th>\n",
       "      <th>end_station_latitude</th>\n",
       "      <th>end_station_longitude</th>\n",
       "      <th>bike_id</th>\n",
       "      <th>member_birth_year</th>\n",
       "    </tr>\n",
       "  </thead>\n",
       "  <tbody>\n",
       "    <tr>\n",
       "      <th>count</th>\n",
       "      <td>183412.000000</td>\n",
       "      <td>183215.000000</td>\n",
       "      <td>183412.000000</td>\n",
       "      <td>183412.000000</td>\n",
       "      <td>183215.000000</td>\n",
       "      <td>183412.000000</td>\n",
       "      <td>183412.000000</td>\n",
       "      <td>183412.000000</td>\n",
       "      <td>175147.000000</td>\n",
       "    </tr>\n",
       "    <tr>\n",
       "      <th>mean</th>\n",
       "      <td>726.078435</td>\n",
       "      <td>138.590427</td>\n",
       "      <td>37.771223</td>\n",
       "      <td>-122.352664</td>\n",
       "      <td>136.249123</td>\n",
       "      <td>37.771427</td>\n",
       "      <td>-122.352250</td>\n",
       "      <td>4472.906375</td>\n",
       "      <td>1984.806437</td>\n",
       "    </tr>\n",
       "    <tr>\n",
       "      <th>std</th>\n",
       "      <td>1794.389780</td>\n",
       "      <td>111.778864</td>\n",
       "      <td>0.099581</td>\n",
       "      <td>0.117097</td>\n",
       "      <td>111.515131</td>\n",
       "      <td>0.099490</td>\n",
       "      <td>0.116673</td>\n",
       "      <td>1664.383394</td>\n",
       "      <td>10.116689</td>\n",
       "    </tr>\n",
       "    <tr>\n",
       "      <th>min</th>\n",
       "      <td>61.000000</td>\n",
       "      <td>3.000000</td>\n",
       "      <td>37.317298</td>\n",
       "      <td>-122.453704</td>\n",
       "      <td>3.000000</td>\n",
       "      <td>37.317298</td>\n",
       "      <td>-122.453704</td>\n",
       "      <td>11.000000</td>\n",
       "      <td>1878.000000</td>\n",
       "    </tr>\n",
       "    <tr>\n",
       "      <th>25%</th>\n",
       "      <td>325.000000</td>\n",
       "      <td>47.000000</td>\n",
       "      <td>37.770083</td>\n",
       "      <td>-122.412408</td>\n",
       "      <td>44.000000</td>\n",
       "      <td>37.770407</td>\n",
       "      <td>-122.411726</td>\n",
       "      <td>3777.000000</td>\n",
       "      <td>1980.000000</td>\n",
       "    </tr>\n",
       "    <tr>\n",
       "      <th>50%</th>\n",
       "      <td>514.000000</td>\n",
       "      <td>104.000000</td>\n",
       "      <td>37.780760</td>\n",
       "      <td>-122.398285</td>\n",
       "      <td>100.000000</td>\n",
       "      <td>37.781010</td>\n",
       "      <td>-122.398279</td>\n",
       "      <td>4958.000000</td>\n",
       "      <td>1987.000000</td>\n",
       "    </tr>\n",
       "    <tr>\n",
       "      <th>75%</th>\n",
       "      <td>796.000000</td>\n",
       "      <td>239.000000</td>\n",
       "      <td>37.797280</td>\n",
       "      <td>-122.286533</td>\n",
       "      <td>235.000000</td>\n",
       "      <td>37.797320</td>\n",
       "      <td>-122.288045</td>\n",
       "      <td>5502.000000</td>\n",
       "      <td>1992.000000</td>\n",
       "    </tr>\n",
       "    <tr>\n",
       "      <th>max</th>\n",
       "      <td>85444.000000</td>\n",
       "      <td>398.000000</td>\n",
       "      <td>37.880222</td>\n",
       "      <td>-121.874119</td>\n",
       "      <td>398.000000</td>\n",
       "      <td>37.880222</td>\n",
       "      <td>-121.874119</td>\n",
       "      <td>6645.000000</td>\n",
       "      <td>2001.000000</td>\n",
       "    </tr>\n",
       "  </tbody>\n",
       "</table>\n",
       "</div>"
      ],
      "text/plain": [
       "        duration_sec  start_station_id  start_station_latitude  \\\n",
       "count  183412.000000     183215.000000           183412.000000   \n",
       "mean      726.078435        138.590427               37.771223   \n",
       "std      1794.389780        111.778864                0.099581   \n",
       "min        61.000000          3.000000               37.317298   \n",
       "25%       325.000000         47.000000               37.770083   \n",
       "50%       514.000000        104.000000               37.780760   \n",
       "75%       796.000000        239.000000               37.797280   \n",
       "max     85444.000000        398.000000               37.880222   \n",
       "\n",
       "       start_station_longitude  end_station_id  end_station_latitude  \\\n",
       "count            183412.000000   183215.000000         183412.000000   \n",
       "mean               -122.352664      136.249123             37.771427   \n",
       "std                   0.117097      111.515131              0.099490   \n",
       "min                -122.453704        3.000000             37.317298   \n",
       "25%                -122.412408       44.000000             37.770407   \n",
       "50%                -122.398285      100.000000             37.781010   \n",
       "75%                -122.286533      235.000000             37.797320   \n",
       "max                -121.874119      398.000000             37.880222   \n",
       "\n",
       "       end_station_longitude        bike_id  member_birth_year  \n",
       "count          183412.000000  183412.000000      175147.000000  \n",
       "mean             -122.352250    4472.906375        1984.806437  \n",
       "std                 0.116673    1664.383394          10.116689  \n",
       "min              -122.453704      11.000000        1878.000000  \n",
       "25%              -122.411726    3777.000000        1980.000000  \n",
       "50%              -122.398279    4958.000000        1987.000000  \n",
       "75%              -122.288045    5502.000000        1992.000000  \n",
       "max              -121.874119    6645.000000        2001.000000  "
      ]
     },
     "execution_count": 5,
     "metadata": {},
     "output_type": "execute_result"
    }
   ],
   "source": [
    "# descriptive statistics for numeric variables\n",
    "gobike.describe()"
   ]
  },
  {
   "cell_type": "markdown",
   "id": "f3bc2cb6",
   "metadata": {
    "slideshow": {
     "slide_type": "slide"
    }
   },
   "source": [
    "<a id=\"faults\"></a>\n",
    "## Quality Issues Discovered\n",
    "\n",
    "These are some of the quality issues discovered when exploring the `gobike_clean` data set:\n",
    "1. `start_time` and `end_time` data type are formatted as an object.\n",
    "2. `start_station_id`, `start_station_name`, `end_station_id`, and `end_station_name` have 0.11 percent data missing.\n",
    "3. `gobike_clean` table: `member_birth_year` has 4.51 percent  data missing.\n",
    "4. `member_gender` has 4.51 percent  data missing.\n",
    "5. `gobike_clean` table: `member_birth_year` has either outliers or incorrect data.\n"
   ]
  },
  {
   "cell_type": "markdown",
   "id": "c01ac4c4",
   "metadata": {
    "slideshow": {
     "slide_type": "skip"
    }
   },
   "source": [
    "<a id=\"cleaning\"></a>\n",
    "## Data Cleaning"
   ]
  },
  {
   "cell_type": "code",
   "execution_count": 6,
   "id": "cd989653",
   "metadata": {
    "slideshow": {
     "slide_type": "skip"
    }
   },
   "outputs": [
    {
     "data": {
      "text/html": [
       "<div>\n",
       "<style scoped>\n",
       "    .dataframe tbody tr th:only-of-type {\n",
       "        vertical-align: middle;\n",
       "    }\n",
       "\n",
       "    .dataframe tbody tr th {\n",
       "        vertical-align: top;\n",
       "    }\n",
       "\n",
       "    .dataframe thead th {\n",
       "        text-align: right;\n",
       "    }\n",
       "</style>\n",
       "<table border=\"1\" class=\"dataframe\">\n",
       "  <thead>\n",
       "    <tr style=\"text-align: right;\">\n",
       "      <th></th>\n",
       "      <th>duration_sec</th>\n",
       "      <th>start_time</th>\n",
       "      <th>end_time</th>\n",
       "      <th>start_station_id</th>\n",
       "      <th>start_station_name</th>\n",
       "      <th>start_station_latitude</th>\n",
       "      <th>start_station_longitude</th>\n",
       "      <th>end_station_id</th>\n",
       "      <th>end_station_name</th>\n",
       "      <th>end_station_latitude</th>\n",
       "      <th>end_station_longitude</th>\n",
       "      <th>bike_id</th>\n",
       "      <th>user_type</th>\n",
       "      <th>member_birth_year</th>\n",
       "      <th>member_gender</th>\n",
       "      <th>bike_share_for_all_trip</th>\n",
       "    </tr>\n",
       "  </thead>\n",
       "  <tbody>\n",
       "    <tr>\n",
       "      <th>0</th>\n",
       "      <td>52185</td>\n",
       "      <td>2019-02-28 17:32:10.1450</td>\n",
       "      <td>2019-03-01 08:01:55.9750</td>\n",
       "      <td>21.0</td>\n",
       "      <td>Montgomery St BART Station (Market St at 2nd St)</td>\n",
       "      <td>37.789625</td>\n",
       "      <td>-122.400811</td>\n",
       "      <td>13.0</td>\n",
       "      <td>Commercial St at Montgomery St</td>\n",
       "      <td>37.794231</td>\n",
       "      <td>-122.402923</td>\n",
       "      <td>4902</td>\n",
       "      <td>Customer</td>\n",
       "      <td>1984.0</td>\n",
       "      <td>Male</td>\n",
       "      <td>No</td>\n",
       "    </tr>\n",
       "    <tr>\n",
       "      <th>1</th>\n",
       "      <td>42521</td>\n",
       "      <td>2019-02-28 18:53:21.7890</td>\n",
       "      <td>2019-03-01 06:42:03.0560</td>\n",
       "      <td>23.0</td>\n",
       "      <td>The Embarcadero at Steuart St</td>\n",
       "      <td>37.791464</td>\n",
       "      <td>-122.391034</td>\n",
       "      <td>81.0</td>\n",
       "      <td>Berry St at 4th St</td>\n",
       "      <td>37.775880</td>\n",
       "      <td>-122.393170</td>\n",
       "      <td>2535</td>\n",
       "      <td>Customer</td>\n",
       "      <td>NaN</td>\n",
       "      <td>NaN</td>\n",
       "      <td>No</td>\n",
       "    </tr>\n",
       "    <tr>\n",
       "      <th>2</th>\n",
       "      <td>61854</td>\n",
       "      <td>2019-02-28 12:13:13.2180</td>\n",
       "      <td>2019-03-01 05:24:08.1460</td>\n",
       "      <td>86.0</td>\n",
       "      <td>Market St at Dolores St</td>\n",
       "      <td>37.769305</td>\n",
       "      <td>-122.426826</td>\n",
       "      <td>3.0</td>\n",
       "      <td>Powell St BART Station (Market St at 4th St)</td>\n",
       "      <td>37.786375</td>\n",
       "      <td>-122.404904</td>\n",
       "      <td>5905</td>\n",
       "      <td>Customer</td>\n",
       "      <td>1972.0</td>\n",
       "      <td>Male</td>\n",
       "      <td>No</td>\n",
       "    </tr>\n",
       "    <tr>\n",
       "      <th>3</th>\n",
       "      <td>36490</td>\n",
       "      <td>2019-02-28 17:54:26.0100</td>\n",
       "      <td>2019-03-01 04:02:36.8420</td>\n",
       "      <td>375.0</td>\n",
       "      <td>Grove St at Masonic Ave</td>\n",
       "      <td>37.774836</td>\n",
       "      <td>-122.446546</td>\n",
       "      <td>70.0</td>\n",
       "      <td>Central Ave at Fell St</td>\n",
       "      <td>37.773311</td>\n",
       "      <td>-122.444293</td>\n",
       "      <td>6638</td>\n",
       "      <td>Subscriber</td>\n",
       "      <td>1989.0</td>\n",
       "      <td>Other</td>\n",
       "      <td>No</td>\n",
       "    </tr>\n",
       "    <tr>\n",
       "      <th>4</th>\n",
       "      <td>1585</td>\n",
       "      <td>2019-02-28 23:54:18.5490</td>\n",
       "      <td>2019-03-01 00:20:44.0740</td>\n",
       "      <td>7.0</td>\n",
       "      <td>Frank H Ogawa Plaza</td>\n",
       "      <td>37.804562</td>\n",
       "      <td>-122.271738</td>\n",
       "      <td>222.0</td>\n",
       "      <td>10th Ave at E 15th St</td>\n",
       "      <td>37.792714</td>\n",
       "      <td>-122.248780</td>\n",
       "      <td>4898</td>\n",
       "      <td>Subscriber</td>\n",
       "      <td>1974.0</td>\n",
       "      <td>Male</td>\n",
       "      <td>Yes</td>\n",
       "    </tr>\n",
       "  </tbody>\n",
       "</table>\n",
       "</div>"
      ],
      "text/plain": [
       "   duration_sec                start_time                  end_time  \\\n",
       "0         52185  2019-02-28 17:32:10.1450  2019-03-01 08:01:55.9750   \n",
       "1         42521  2019-02-28 18:53:21.7890  2019-03-01 06:42:03.0560   \n",
       "2         61854  2019-02-28 12:13:13.2180  2019-03-01 05:24:08.1460   \n",
       "3         36490  2019-02-28 17:54:26.0100  2019-03-01 04:02:36.8420   \n",
       "4          1585  2019-02-28 23:54:18.5490  2019-03-01 00:20:44.0740   \n",
       "\n",
       "   start_station_id                                start_station_name  \\\n",
       "0              21.0  Montgomery St BART Station (Market St at 2nd St)   \n",
       "1              23.0                     The Embarcadero at Steuart St   \n",
       "2              86.0                           Market St at Dolores St   \n",
       "3             375.0                           Grove St at Masonic Ave   \n",
       "4               7.0                               Frank H Ogawa Plaza   \n",
       "\n",
       "   start_station_latitude  start_station_longitude  end_station_id  \\\n",
       "0               37.789625              -122.400811            13.0   \n",
       "1               37.791464              -122.391034            81.0   \n",
       "2               37.769305              -122.426826             3.0   \n",
       "3               37.774836              -122.446546            70.0   \n",
       "4               37.804562              -122.271738           222.0   \n",
       "\n",
       "                               end_station_name  end_station_latitude  \\\n",
       "0                Commercial St at Montgomery St             37.794231   \n",
       "1                            Berry St at 4th St             37.775880   \n",
       "2  Powell St BART Station (Market St at 4th St)             37.786375   \n",
       "3                        Central Ave at Fell St             37.773311   \n",
       "4                         10th Ave at E 15th St             37.792714   \n",
       "\n",
       "   end_station_longitude  bike_id   user_type  member_birth_year  \\\n",
       "0            -122.402923     4902    Customer             1984.0   \n",
       "1            -122.393170     2535    Customer                NaN   \n",
       "2            -122.404904     5905    Customer             1972.0   \n",
       "3            -122.444293     6638  Subscriber             1989.0   \n",
       "4            -122.248780     4898  Subscriber             1974.0   \n",
       "\n",
       "  member_gender bike_share_for_all_trip  \n",
       "0          Male                      No  \n",
       "1           NaN                      No  \n",
       "2          Male                      No  \n",
       "3         Other                      No  \n",
       "4          Male                     Yes  "
      ]
     },
     "execution_count": 6,
     "metadata": {},
     "output_type": "execute_result"
    }
   ],
   "source": [
    "# Creates a copy of the original dataset\n",
    "gobike_clean = gobike.copy()\n",
    "gobike_clean.head()"
   ]
  },
  {
   "cell_type": "markdown",
   "id": "0b2b20af",
   "metadata": {
    "slideshow": {
     "slide_type": "skip"
    }
   },
   "source": [
    "### 1. `gobike_clean` table: `start_time` and `end_time` data type are formatted as an object\n",
    "\n",
    "Convert the `start_time` and `end_time` form an object data type to datatime data type using the pandas method `pd.to_datetime`."
   ]
  },
  {
   "cell_type": "code",
   "execution_count": 7,
   "id": "aaf207bb",
   "metadata": {
    "slideshow": {
     "slide_type": "skip"
    }
   },
   "outputs": [
    {
     "data": {
      "text/plain": [
       "duration_sec                        int64\n",
       "start_time                 datetime64[ns]\n",
       "end_time                   datetime64[ns]\n",
       "start_station_id                  float64\n",
       "start_station_name                 object\n",
       "start_station_latitude            float64\n",
       "start_station_longitude           float64\n",
       "end_station_id                    float64\n",
       "end_station_name                   object\n",
       "end_station_latitude              float64\n",
       "end_station_longitude             float64\n",
       "bike_id                             int64\n",
       "user_type                          object\n",
       "member_birth_year                 float64\n",
       "member_gender                      object\n",
       "bike_share_for_all_trip            object\n",
       "dtype: object"
      ]
     },
     "execution_count": 7,
     "metadata": {},
     "output_type": "execute_result"
    }
   ],
   "source": [
    "gobike_clean['start_time'] = pd.to_datetime(gobike_clean['start_time'])\n",
    "gobike_clean['end_time'] = pd.to_datetime(gobike_clean['end_time'])\n",
    "gobike_clean.dtypes"
   ]
  },
  {
   "cell_type": "markdown",
   "id": "607a08eb",
   "metadata": {
    "slideshow": {
     "slide_type": "skip"
    }
   },
   "source": [
    "After converting the columns `start_time` and `end_time` to date time data type, I want to check if the values in column `duration_sec` are correct with the difference between the `end_time` and `start_time`.\n",
    "```\n",
    "delta_time = gobike_clean['end_time'] - gobike_clean['start_time']\n",
    "compare = (gobike_clean['duration_sec'] != delta_time.seconds)\n",
    "```"
   ]
  },
  {
   "cell_type": "code",
   "execution_count": 8,
   "id": "daf34c76",
   "metadata": {
    "slideshow": {
     "slide_type": "skip"
    }
   },
   "outputs": [
    {
     "data": {
      "text/plain": [
       "False"
      ]
     },
     "execution_count": 8,
     "metadata": {},
     "output_type": "execute_result"
    }
   ],
   "source": [
    "def time_checker(dataframe):\n",
    "    \"\"\"\n",
    "    Check dataframe column `duration_sec` for correct values.\n",
    "    \n",
    "    This function simply checks if `duration_sec` is equal to the extract duration in seconds\n",
    "    between the `end_time` and `start_time`.\n",
    "    \n",
    "    Parameters\n",
    "    ----------\n",
    "    dataframe : DataFrame\n",
    "        Pandas DataFrame having `end_time` and `start_time` as a date time data type.\n",
    "        \n",
    "    Returns\n",
    "    -------\n",
    "    affrim : bool\n",
    "    \"\"\"\n",
    "    boolean_list = []\n",
    "    affrim = np.array(boolean_list).any()\n",
    "    for i, row in dataframe.iterrows():\n",
    "        delta_time = row['end_time'] - row['start_time']\n",
    "        check = row['duration_sec'] != delta_time.seconds\n",
    "        boolean_list.append(check)\n",
    "    return affrim\n",
    "time_checker(gobike_clean)"
   ]
  },
  {
   "cell_type": "markdown",
   "id": "1b8800c9",
   "metadata": {
    "slideshow": {
     "slide_type": "skip"
    }
   },
   "source": [
    "#### Report\n",
    "Using the custom function `time_checker` the data in `duration_sec` is accurate."
   ]
  },
  {
   "cell_type": "markdown",
   "id": "4cfd618b",
   "metadata": {
    "slideshow": {
     "slide_type": "skip"
    }
   },
   "source": [
    "### 2. `gobike_clean` table: `start_station_id`, `start_station_name`, `end_station_id`, and `end_station_name` have 0.11 percent data missing.\n",
    " "
   ]
  },
  {
   "cell_type": "code",
   "execution_count": 9,
   "id": "81db23f3",
   "metadata": {
    "slideshow": {
     "slide_type": "skip"
    }
   },
   "outputs": [
    {
     "data": {
      "text/html": [
       "<div>\n",
       "<style scoped>\n",
       "    .dataframe tbody tr th:only-of-type {\n",
       "        vertical-align: middle;\n",
       "    }\n",
       "\n",
       "    .dataframe tbody tr th {\n",
       "        vertical-align: top;\n",
       "    }\n",
       "\n",
       "    .dataframe thead th {\n",
       "        text-align: right;\n",
       "    }\n",
       "</style>\n",
       "<table border=\"1\" class=\"dataframe\">\n",
       "  <thead>\n",
       "    <tr style=\"text-align: right;\">\n",
       "      <th></th>\n",
       "      <th>duration_sec</th>\n",
       "      <th>start_time</th>\n",
       "      <th>end_time</th>\n",
       "      <th>start_station_id</th>\n",
       "      <th>start_station_name</th>\n",
       "      <th>start_station_latitude</th>\n",
       "      <th>start_station_longitude</th>\n",
       "      <th>end_station_id</th>\n",
       "      <th>end_station_name</th>\n",
       "      <th>end_station_latitude</th>\n",
       "      <th>end_station_longitude</th>\n",
       "      <th>bike_id</th>\n",
       "      <th>user_type</th>\n",
       "      <th>member_birth_year</th>\n",
       "      <th>member_gender</th>\n",
       "      <th>bike_share_for_all_trip</th>\n",
       "    </tr>\n",
       "  </thead>\n",
       "  <tbody>\n",
       "    <tr>\n",
       "      <th>475</th>\n",
       "      <td>1709</td>\n",
       "      <td>2019-02-28 20:55:53.932</td>\n",
       "      <td>2019-02-28 21:24:23.738</td>\n",
       "      <td>NaN</td>\n",
       "      <td>NaN</td>\n",
       "      <td>37.40</td>\n",
       "      <td>-121.94</td>\n",
       "      <td>NaN</td>\n",
       "      <td>NaN</td>\n",
       "      <td>37.40</td>\n",
       "      <td>-121.93</td>\n",
       "      <td>4211</td>\n",
       "      <td>Customer</td>\n",
       "      <td>1991.0</td>\n",
       "      <td>Female</td>\n",
       "      <td>No</td>\n",
       "    </tr>\n",
       "    <tr>\n",
       "      <th>1733</th>\n",
       "      <td>1272</td>\n",
       "      <td>2019-02-28 18:32:34.273</td>\n",
       "      <td>2019-02-28 18:53:46.727</td>\n",
       "      <td>NaN</td>\n",
       "      <td>NaN</td>\n",
       "      <td>37.40</td>\n",
       "      <td>-121.94</td>\n",
       "      <td>NaN</td>\n",
       "      <td>NaN</td>\n",
       "      <td>37.41</td>\n",
       "      <td>-121.96</td>\n",
       "      <td>4174</td>\n",
       "      <td>Subscriber</td>\n",
       "      <td>1980.0</td>\n",
       "      <td>Male</td>\n",
       "      <td>No</td>\n",
       "    </tr>\n",
       "    <tr>\n",
       "      <th>3625</th>\n",
       "      <td>142</td>\n",
       "      <td>2019-02-28 17:10:46.529</td>\n",
       "      <td>2019-02-28 17:13:09.431</td>\n",
       "      <td>NaN</td>\n",
       "      <td>NaN</td>\n",
       "      <td>37.41</td>\n",
       "      <td>-121.95</td>\n",
       "      <td>NaN</td>\n",
       "      <td>NaN</td>\n",
       "      <td>37.41</td>\n",
       "      <td>-121.96</td>\n",
       "      <td>4283</td>\n",
       "      <td>Subscriber</td>\n",
       "      <td>1988.0</td>\n",
       "      <td>Male</td>\n",
       "      <td>No</td>\n",
       "    </tr>\n",
       "    <tr>\n",
       "      <th>4070</th>\n",
       "      <td>585</td>\n",
       "      <td>2019-02-28 16:28:45.934</td>\n",
       "      <td>2019-02-28 16:38:31.332</td>\n",
       "      <td>NaN</td>\n",
       "      <td>NaN</td>\n",
       "      <td>37.39</td>\n",
       "      <td>-121.93</td>\n",
       "      <td>NaN</td>\n",
       "      <td>NaN</td>\n",
       "      <td>37.40</td>\n",
       "      <td>-121.92</td>\n",
       "      <td>4089</td>\n",
       "      <td>Subscriber</td>\n",
       "      <td>1984.0</td>\n",
       "      <td>Male</td>\n",
       "      <td>Yes</td>\n",
       "    </tr>\n",
       "    <tr>\n",
       "      <th>5654</th>\n",
       "      <td>509</td>\n",
       "      <td>2019-02-28 12:30:17.131</td>\n",
       "      <td>2019-02-28 12:38:46.329</td>\n",
       "      <td>NaN</td>\n",
       "      <td>NaN</td>\n",
       "      <td>37.40</td>\n",
       "      <td>-121.92</td>\n",
       "      <td>NaN</td>\n",
       "      <td>NaN</td>\n",
       "      <td>37.39</td>\n",
       "      <td>-121.93</td>\n",
       "      <td>4089</td>\n",
       "      <td>Subscriber</td>\n",
       "      <td>1984.0</td>\n",
       "      <td>Male</td>\n",
       "      <td>Yes</td>\n",
       "    </tr>\n",
       "  </tbody>\n",
       "</table>\n",
       "</div>"
      ],
      "text/plain": [
       "      duration_sec              start_time                end_time  \\\n",
       "475           1709 2019-02-28 20:55:53.932 2019-02-28 21:24:23.738   \n",
       "1733          1272 2019-02-28 18:32:34.273 2019-02-28 18:53:46.727   \n",
       "3625           142 2019-02-28 17:10:46.529 2019-02-28 17:13:09.431   \n",
       "4070           585 2019-02-28 16:28:45.934 2019-02-28 16:38:31.332   \n",
       "5654           509 2019-02-28 12:30:17.131 2019-02-28 12:38:46.329   \n",
       "\n",
       "      start_station_id start_station_name  start_station_latitude  \\\n",
       "475                NaN                NaN                   37.40   \n",
       "1733               NaN                NaN                   37.40   \n",
       "3625               NaN                NaN                   37.41   \n",
       "4070               NaN                NaN                   37.39   \n",
       "5654               NaN                NaN                   37.40   \n",
       "\n",
       "      start_station_longitude  end_station_id end_station_name  \\\n",
       "475                   -121.94             NaN              NaN   \n",
       "1733                  -121.94             NaN              NaN   \n",
       "3625                  -121.95             NaN              NaN   \n",
       "4070                  -121.93             NaN              NaN   \n",
       "5654                  -121.92             NaN              NaN   \n",
       "\n",
       "      end_station_latitude  end_station_longitude  bike_id   user_type  \\\n",
       "475                  37.40                -121.93     4211    Customer   \n",
       "1733                 37.41                -121.96     4174  Subscriber   \n",
       "3625                 37.41                -121.96     4283  Subscriber   \n",
       "4070                 37.40                -121.92     4089  Subscriber   \n",
       "5654                 37.39                -121.93     4089  Subscriber   \n",
       "\n",
       "      member_birth_year member_gender bike_share_for_all_trip  \n",
       "475              1991.0        Female                      No  \n",
       "1733             1980.0          Male                      No  \n",
       "3625             1988.0          Male                      No  \n",
       "4070             1984.0          Male                     Yes  \n",
       "5654             1984.0          Male                     Yes  "
      ]
     },
     "execution_count": 9,
     "metadata": {},
     "output_type": "execute_result"
    }
   ],
   "source": [
    "station_missing = gobike_clean[gobike_clean['start_station_id'].isnull()]\n",
    "station_missing.head()"
   ]
  },
  {
   "cell_type": "code",
   "execution_count": 10,
   "id": "d06a0737",
   "metadata": {
    "slideshow": {
     "slide_type": "skip"
    }
   },
   "outputs": [
    {
     "data": {
      "text/plain": [
       "start_station_id      197\n",
       "start_station_name    197\n",
       "end_station_id        197\n",
       "end_station_name      197\n",
       "member_birth_year       2\n",
       "member_gender           2\n",
       "dtype: int64"
      ]
     },
     "execution_count": 10,
     "metadata": {},
     "output_type": "execute_result"
    }
   ],
   "source": [
    "station_missing.isnull().sum()[station_missing.isnull().sum()>0]"
   ]
  },
  {
   "cell_type": "code",
   "execution_count": 11,
   "id": "3e596f2d",
   "metadata": {
    "slideshow": {
     "slide_type": "skip"
    }
   },
   "outputs": [
    {
     "data": {
      "text/plain": [
       "(197, 16)"
      ]
     },
     "execution_count": 11,
     "metadata": {},
     "output_type": "execute_result"
    }
   ],
   "source": [
    "gobike_clean[gobike_clean['start_station_id'].isnull()].shape"
   ]
  },
  {
   "cell_type": "code",
   "execution_count": 12,
   "id": "378e9992",
   "metadata": {
    "slideshow": {
     "slide_type": "skip"
    }
   },
   "outputs": [],
   "source": [
    "gobike_clean.dropna(subset=['start_station_id'], inplace=True)"
   ]
  },
  {
   "cell_type": "code",
   "execution_count": 13,
   "id": "cfb5fffc",
   "metadata": {
    "slideshow": {
     "slide_type": "skip"
    }
   },
   "outputs": [
    {
     "data": {
      "text/plain": [
       "duration_sec                  0\n",
       "start_time                    0\n",
       "end_time                      0\n",
       "start_station_id              0\n",
       "start_station_name            0\n",
       "start_station_latitude        0\n",
       "start_station_longitude       0\n",
       "end_station_id                0\n",
       "end_station_name              0\n",
       "end_station_latitude          0\n",
       "end_station_longitude         0\n",
       "bike_id                       0\n",
       "user_type                     0\n",
       "member_birth_year          8263\n",
       "member_gender              8263\n",
       "bike_share_for_all_trip       0\n",
       "dtype: int64"
      ]
     },
     "execution_count": 13,
     "metadata": {},
     "output_type": "execute_result"
    }
   ],
   "source": [
    "gobike_clean.isnull().sum()"
   ]
  },
  {
   "cell_type": "markdown",
   "id": "71fa89fc",
   "metadata": {
    "slideshow": {
     "slide_type": "skip"
    }
   },
   "source": [
    "### 3. `gobike_clean` table: `member_birth_year` has 4.51 percent  data missing\n",
    "\n",
    "From the summary statistics of the DataFrame `member_birth_year` has **mean** and **median** of **1984** and **1987**, i'll be using the median as replacement for the missing data since the data is slightly skew to the left."
   ]
  },
  {
   "cell_type": "code",
   "execution_count": 14,
   "id": "4a443f13",
   "metadata": {
    "slideshow": {
     "slide_type": "skip"
    }
   },
   "outputs": [
    {
     "data": {
      "text/plain": [
       "mean      1984.803135\n",
       "median    1987.000000\n",
       "Name: member_birth_year, dtype: float64"
      ]
     },
     "execution_count": 14,
     "metadata": {},
     "output_type": "execute_result"
    }
   ],
   "source": [
    "gobike_clean['member_birth_year'].agg(['mean', 'median'])"
   ]
  },
  {
   "cell_type": "code",
   "execution_count": 15,
   "id": "9ccb9374",
   "metadata": {
    "slideshow": {
     "slide_type": "skip"
    }
   },
   "outputs": [
    {
     "data": {
      "text/plain": [
       "8263"
      ]
     },
     "execution_count": 15,
     "metadata": {},
     "output_type": "execute_result"
    }
   ],
   "source": [
    "gobike_clean['member_birth_year'].isnull().sum()"
   ]
  },
  {
   "cell_type": "code",
   "execution_count": 16,
   "id": "13e2c0b5",
   "metadata": {
    "slideshow": {
     "slide_type": "skip"
    }
   },
   "outputs": [],
   "source": [
    "# Replace missing values with the median `member_birth_year`\n",
    "gobike_clean['member_birth_year'].fillna(gobike_clean['member_birth_year'].median(), inplace=True)"
   ]
  },
  {
   "cell_type": "markdown",
   "id": "898179c3",
   "metadata": {
    "slideshow": {
     "slide_type": "skip"
    }
   },
   "source": [
    "#### Test:"
   ]
  },
  {
   "cell_type": "code",
   "execution_count": 17,
   "id": "8107e65b",
   "metadata": {
    "slideshow": {
     "slide_type": "skip"
    }
   },
   "outputs": [
    {
     "data": {
      "text/plain": [
       "0"
      ]
     },
     "execution_count": 17,
     "metadata": {},
     "output_type": "execute_result"
    }
   ],
   "source": [
    "gobike_clean['member_birth_year'].isnull().sum()"
   ]
  },
  {
   "cell_type": "markdown",
   "id": "df8b224d",
   "metadata": {
    "slideshow": {
     "slide_type": "skip"
    }
   },
   "source": [
    "### 4. `gobike_clean` table: `member_gender` has 4.51 percent  data missing."
   ]
  },
  {
   "cell_type": "code",
   "execution_count": 18,
   "id": "82566b39",
   "metadata": {
    "slideshow": {
     "slide_type": "skip"
    }
   },
   "outputs": [
    {
     "data": {
      "text/plain": [
       "Male      130500\n",
       "Female     40805\n",
       "NaN         8263\n",
       "Other       3647\n",
       "Name: member_gender, dtype: int64"
      ]
     },
     "execution_count": 18,
     "metadata": {},
     "output_type": "execute_result"
    }
   ],
   "source": [
    "gobike_clean['member_gender'].value_counts(dropna=False)"
   ]
  },
  {
   "cell_type": "markdown",
   "id": "4cd6d814",
   "metadata": {
    "slideshow": {
     "slide_type": "skip"
    }
   },
   "source": [
    "The decision to drop or replace the data is quite challenging since:\n",
    "1. Missing values can be a proption of either male or female users.\n",
    "2. The Unique value `Other` might represent users that might not identify as either Male or Female, or might have made the decision not to answer the question.\n",
    "I made the decision to include the missing data as `Other`."
   ]
  },
  {
   "cell_type": "code",
   "execution_count": 19,
   "id": "07e58de7",
   "metadata": {
    "slideshow": {
     "slide_type": "skip"
    }
   },
   "outputs": [],
   "source": [
    "# Replace missing values with `member_gender` Other.\n",
    "gobike_clean['member_gender'].fillna('Other', inplace=True)"
   ]
  },
  {
   "cell_type": "markdown",
   "id": "ee1b6725",
   "metadata": {
    "slideshow": {
     "slide_type": "skip"
    }
   },
   "source": [
    "#### Test:"
   ]
  },
  {
   "cell_type": "code",
   "execution_count": 20,
   "id": "c80c38b0",
   "metadata": {
    "slideshow": {
     "slide_type": "skip"
    }
   },
   "outputs": [
    {
     "data": {
      "text/plain": [
       "array(['Male', 'Other', 'Female'], dtype=object)"
      ]
     },
     "execution_count": 20,
     "metadata": {},
     "output_type": "execute_result"
    }
   ],
   "source": [
    "gobike_clean['member_gender'].unique()"
   ]
  },
  {
   "cell_type": "markdown",
   "id": "839b8c11",
   "metadata": {
    "slideshow": {
     "slide_type": "skip"
    }
   },
   "source": [
    "### 5. `gobike_clean` table: `member_birth_year` has either outliers or incorrect data."
   ]
  },
  {
   "cell_type": "markdown",
   "id": "89ebcc4b",
   "metadata": {
    "slideshow": {
     "slide_type": "skip"
    }
   },
   "source": [
    "`member_birth_year` clearly has outliers or incorrect data since the minimum birth year is about 141 years old during 2019."
   ]
  },
  {
   "cell_type": "code",
   "execution_count": 21,
   "id": "845c0fcc",
   "metadata": {
    "slideshow": {
     "slide_type": "skip"
    }
   },
   "outputs": [
    {
     "data": {
      "text/plain": [
       "min    1878.0\n",
       "max    2001.0\n",
       "Name: member_birth_year, dtype: float64"
      ]
     },
     "execution_count": 21,
     "metadata": {},
     "output_type": "execute_result"
    }
   ],
   "source": [
    "gobike_clean['member_birth_year'].agg(['min', 'max'])"
   ]
  },
  {
   "cell_type": "markdown",
   "id": "a64f41a7",
   "metadata": {
    "slideshow": {
     "slide_type": "skip"
    }
   },
   "source": [
    "I'll take care of the outliers when performing feature engineering on the `member_birth_year` column."
   ]
  },
  {
   "cell_type": "markdown",
   "id": "b6164806",
   "metadata": {
    "slideshow": {
     "slide_type": "slide"
    }
   },
   "source": [
    "<a id=\"eda\"></a>\n",
    "## Exploratory Data Analysis\n"
   ]
  },
  {
   "cell_type": "markdown",
   "id": "87a05705",
   "metadata": {
    "slideshow": {
     "slide_type": "slide"
    }
   },
   "source": [
    "### Visualizaton of Quantative columns in the `gobike_clean` dataset"
   ]
  },
  {
   "cell_type": "code",
   "execution_count": 22,
   "id": "1748a189",
   "metadata": {
    "slideshow": {
     "slide_type": "subslide"
    }
   },
   "outputs": [
    {
     "data": {
      "image/png": "[encoded data removed]",
      "text/plain": [
       "<Figure size 1080x720 with 6 Axes>"
      ]
     },
     "metadata": {
      "needs_background": "light"
     },
     "output_type": "display_data"
    }
   ],
   "source": [
    "# Plot of some numeric columns\n",
    "gobike_clean[[\n",
    "    'duration_sec','member_birth_year',\n",
    "    'start_station_latitude','start_station_longitude',\n",
    "    'end_station_latitude','end_station_longitude'\n",
    "]].hist(bins=40, figsize=(15,10));"
   ]
  },
  {
   "cell_type": "code",
   "execution_count": 23,
   "id": "1d50878e",
   "metadata": {
    "slideshow": {
     "slide_type": "subslide"
    }
   },
   "outputs": [
    {
     "data": {
      "image/png": "[encoded data removed]",
      "text/plain": [
       "<Figure size 864x360 with 2 Axes>"
      ]
     },
     "metadata": {
      "needs_background": "light"
     },
     "output_type": "display_data"
    }
   ],
   "source": [
    "plt.rcParams['figure.figsize'] = 12, 5\n",
    "\n",
    "fig, ax = plt.subplots(1,2)\n",
    "d = sns.histplot(data=gobike_clean, x='duration_sec', ax=ax[0])\n",
    "d.set_xlabel(\"Duration (sec)\");\n",
    "d.set_ylabel(\"Count\")\n",
    "\n",
    "v = sns.histplot(data=gobike_clean, x='duration_sec', ax=ax[1])\n",
    "v.set_xlabel('Duration (sec)')\n",
    "v.set_ylabel('Count')\n",
    "plt.xlim(0,2000);"
   ]
  },
  {
   "cell_type": "code",
   "execution_count": 24,
   "id": "dc455021",
   "metadata": {
    "slideshow": {
     "slide_type": "skip"
    }
   },
   "outputs": [
    {
     "data": {
      "image/png": "[encoded data removed]",
      "text/plain": [
       "<Figure size 720x360 with 1 Axes>"
      ]
     },
     "metadata": {
      "needs_background": "light"
     },
     "output_type": "display_data"
    }
   ],
   "source": [
    "bin_step = np.log10(3)\n",
    "bin_edges = 10 ** np.arange(1.78, 4.9+1, bin_step)\n",
    "plt.figure(figsize =(10,5))\n",
    "plt.hist(data=gobike_clean, x='duration_sec', bins=bin_edges)\n",
    "plt.xscale('log')\n",
    "plt.xticks([100, 300, 600, 8000],['100', '300', '600', '8000'])\n",
    "plt.ylabel('Count')\n",
    "plt.xlabel('Duration (sec)')\n",
    "plt.title('Log Transformation of Duration (sec)');"
   ]
  },
  {
   "cell_type": "code",
   "execution_count": 25,
   "id": "34fd3d3a",
   "metadata": {
    "slideshow": {
     "slide_type": "skip"
    }
   },
   "outputs": [
    {
     "data": {
      "image/png": "[encoded data removed]",
      "text/plain": [
       "<Figure size 864x360 with 2 Axes>"
      ]
     },
     "metadata": {
      "needs_background": "light"
     },
     "output_type": "display_data"
    }
   ],
   "source": [
    "plt.rcParams['figure.figsize'] = 12, 5\n",
    "\n",
    "plt.subplot(1, 2, 1)\n",
    "plt.boxplot(data=gobike_clean, x='duration_sec', vert=False)\n",
    "plt.xlabel('Duration (sec)')\n",
    "\n",
    "plt.subplot(1, 2, 2)\n",
    "plt.boxplot(data=gobike_clean, x='duration_sec', vert=False)\n",
    "plt.xlim(0,2000)\n",
    "plt.xlabel('Duration (sec)');"
   ]
  },
  {
   "cell_type": "markdown",
   "id": "537aae60",
   "metadata": {
    "slideshow": {
     "slide_type": "slide"
    }
   },
   "source": [
    "From the histogram visualization of the selected columns it is noted that columns:\n",
    "1. `duration_sec`:\n",
    "    + Appears to be very skewed to the right.\n",
    "    + Majority of the recorded observation have a bicycle ride duration between 0 to 1500 seconds.\n",
    "2. `member_birth_year`:\n",
    "    + Majority of riders are born either in 80's or 90's.\n",
    "    + The Minimum and Maximum year of birth of the riders are 1878 and 2001. \n",
    "    + But it is noted that `member_birth_year` clearly has outliers or false data, since we can not have somebody born 1878 having the strength to ride a bike in 2019, he or she would be about  141 years old.\n",
    "3. `start_station_longitude` and `end_station_longitude`: From the histogram it's noted that the longitude plotted has 3 distinct distribution. These distinct distribution might indicate that our data contains 3 distinct location concentration, meaning that stations in the data set might be located in 3 different settlement.\n",
    "4. `start_station_latitude` and `end_station_latitude`: For the distribution of latitude it's noted that there are 2 distinct distribution. These might indicate that 2 out of the 3 settlements might be closer to each other. "
   ]
  },
  {
   "cell_type": "markdown",
   "id": "9cfbfb43",
   "metadata": {
    "slideshow": {
     "slide_type": "slide"
    }
   },
   "source": [
    "## Feature Engineering"
   ]
  },
  {
   "cell_type": "markdown",
   "id": "3c93ab46",
   "metadata": {
    "slideshow": {
     "slide_type": "skip"
    }
   },
   "source": [
    "I'll create some new columns that will be used to discover features that are closly related.\n",
    "First a column i'll create contains the days of the week, this  is done by formating the datatime object to day of the week. "
   ]
  },
  {
   "cell_type": "code",
   "execution_count": 26,
   "id": "e93e9492",
   "metadata": {
    "slideshow": {
     "slide_type": "skip"
    }
   },
   "outputs": [
    {
     "data": {
      "text/plain": [
       "array(['Thursday', 'Wednesday', 'Tuesday', 'Monday', 'Sunday', 'Saturday',\n",
       "       'Friday'], dtype=object)"
      ]
     },
     "execution_count": 26,
     "metadata": {},
     "output_type": "execute_result"
    }
   ],
   "source": [
    "gobike_clean['day_of_week'] = gobike_clean['start_time'].dt.strftime('%A')\n",
    "gobike_clean['day_of_week'].unique()"
   ]
  },
  {
   "cell_type": "markdown",
   "id": "fe5d6e20",
   "metadata": {
    "slideshow": {
     "slide_type": "skip"
    }
   },
   "source": [
    "Next, a column containing the period of day each riders starts there ride is created. "
   ]
  },
  {
   "cell_type": "code",
   "execution_count": 27,
   "id": "7679c0aa",
   "metadata": {
    "slideshow": {
     "slide_type": "skip"
    }
   },
   "outputs": [],
   "source": [
    "def period_of_day(x):\n",
    "    \"\"\"\n",
    "    Create Period of day\n",
    "    \n",
    "    The Period of day is the grouping of the 24 hour clock into 6 unique periods. The period of the day are\n",
    "    late night, early morning, morning, noon, evening, and night.\n",
    "    \n",
    "    Parameters\n",
    "    ----------\n",
    "    x : pd.Series.datetime.datetime\n",
    "        Pandas Series containing datetime data type.\n",
    "        \n",
    "    Returns\n",
    "    -------\n",
    "    output : {Late Night, Early Morning, Morning, Noon, Evening, Night}\n",
    "    \"\"\"\n",
    "    hour = x.hour\n",
    "    period = hour // 4\n",
    "    period_hour = {\n",
    "        0:'Late Night', 1:'Early Morning',\n",
    "        2:'Morning', 3:'Noon',\n",
    "        4:'Evening', 5:'Night'\n",
    "    }\n",
    "    output = period_hour[period]\n",
    "    return output"
   ]
  },
  {
   "cell_type": "code",
   "execution_count": 28,
   "id": "0bdab118",
   "metadata": {
    "slideshow": {
     "slide_type": "skip"
    }
   },
   "outputs": [
    {
     "data": {
      "text/plain": [
       "array(['Evening', 'Noon', 'Night', 'Morning', 'Late Night',\n",
       "       'Early Morning'], dtype=object)"
      ]
     },
     "execution_count": 28,
     "metadata": {},
     "output_type": "execute_result"
    }
   ],
   "source": [
    "# Create new feature `period_of_day` when the function `period_of_day` is applied to the Pandas Series `start_time`\n",
    "gobike_clean['period_of_day'] = gobike_clean['start_time'].apply(period_of_day)\n",
    "gobike_clean['period_of_day'].unique()"
   ]
  },
  {
   "cell_type": "code",
   "execution_count": 29,
   "id": "7327bf04",
   "metadata": {
    "slideshow": {
     "slide_type": "skip"
    }
   },
   "outputs": [],
   "source": [
    "# Convert day_of_week, and period_of_day into ordered categorical types\n",
    "ordinal_var_dict = {'day_of_week':['Monday', 'Tuesday', 'Wednesday', 'Thursday', 'Friday', 'Saturday', 'Sunday'],\n",
    "                    'period_of_day':['Early Morning', 'Morning', 'Noon', 'Evening', 'Night', 'Late Night']}\n",
    "for var in ordinal_var_dict:\n",
    "    ordered_var = pd.api.types.CategoricalDtype(ordered = True,\n",
    "                                               categories = ordinal_var_dict[var])\n",
    "    gobike_clean[var] = gobike_clean[var].astype(ordered_var)"
   ]
  },
  {
   "cell_type": "markdown",
   "id": "381f6ee7",
   "metadata": {
    "slideshow": {
     "slide_type": "skip"
    }
   },
   "source": [
    "#### Test:"
   ]
  },
  {
   "cell_type": "code",
   "execution_count": 30,
   "id": "49890edf",
   "metadata": {
    "slideshow": {
     "slide_type": "skip"
    }
   },
   "outputs": [
    {
     "name": "stdout",
     "output_type": "stream",
     "text": [
      "['Evening', 'Noon', 'Night', 'Morning', 'Late Night', 'Early Morning']\n",
      "Categories (6, object): ['Early Morning' < 'Morning' < 'Noon' < 'Evening' < 'Night' < 'Late Night']\n",
      "\n",
      "['Thursday', 'Wednesday', 'Tuesday', 'Monday', 'Sunday', 'Saturday', 'Friday']\n",
      "Categories (7, object): ['Monday' < 'Tuesday' < 'Wednesday' < 'Thursday' < 'Friday' < 'Saturday' < 'Sunday']\n"
     ]
    }
   ],
   "source": [
    "print(gobike_clean['period_of_day'].unique(), end='\\n\\n')\n",
    "print(gobike_clean['day_of_week'].unique())"
   ]
  },
  {
   "cell_type": "markdown",
   "id": "a985e550",
   "metadata": {
    "slideshow": {
     "slide_type": "skip"
    }
   },
   "source": [
    "I'll create two columns containing the hour of day in which each rider starts and ends there ride."
   ]
  },
  {
   "cell_type": "code",
   "execution_count": 31,
   "id": "c7395671",
   "metadata": {
    "slideshow": {
     "slide_type": "skip"
    }
   },
   "outputs": [],
   "source": [
    "# Create two new columns `Hour_of_day_start` and `Hour_of_day_end`\n",
    "gobike_clean['Hour_of_day_start'] = gobike_clean['start_time'].dt.hour\n",
    "gobike_clean['Hour_of_day_end'] = gobike_clean['end_time'].dt.hour"
   ]
  },
  {
   "cell_type": "code",
   "execution_count": 32,
   "id": "87c46afe",
   "metadata": {
    "slideshow": {
     "slide_type": "skip"
    }
   },
   "outputs": [
    {
     "data": {
      "text/plain": [
       "min   2019-02-01 00:04:52.058\n",
       "max   2019-03-01 08:01:55.975\n",
       "Name: end_time, dtype: datetime64[ns]"
      ]
     },
     "execution_count": 32,
     "metadata": {},
     "output_type": "execute_result"
    }
   ],
   "source": [
    "gobike_clean['end_time'].agg(['min', 'max'])"
   ]
  },
  {
   "cell_type": "markdown",
   "id": "2a172804",
   "metadata": {
    "slideshow": {
     "slide_type": "slide"
    }
   },
   "source": [
    "From the code above we can see that the minimum and maximum end time for bike riders falls within the year 2019. Therefore, we can create a new column called `Age`, which caputures the riders age by subtracting 2019 from `member_birth_year`. "
   ]
  },
  {
   "cell_type": "code",
   "execution_count": 33,
   "id": "11800abb",
   "metadata": {
    "slideshow": {
     "slide_type": "skip"
    }
   },
   "outputs": [],
   "source": [
    "# Create columns called `Age`\n",
    "gobike_clean['Age'] = 2019 - gobike_clean['member_birth_year']"
   ]
  },
  {
   "cell_type": "code",
   "execution_count": 34,
   "id": "72406e69",
   "metadata": {
    "slideshow": {
     "slide_type": "skip"
    }
   },
   "outputs": [
    {
     "data": {
      "text/plain": [
       "max    141.0\n",
       "min     18.0\n",
       "Name: Age, dtype: float64"
      ]
     },
     "execution_count": 34,
     "metadata": {},
     "output_type": "execute_result"
    }
   ],
   "source": [
    "gobike_clean['Age'].agg(['max', 'min'])"
   ]
  },
  {
   "cell_type": "markdown",
   "id": "f0bb71bb",
   "metadata": {
    "slideshow": {
     "slide_type": "skip"
    }
   },
   "source": [
    "Since both `member_birth_year` and `Age` are skew to the left. I decided to create a new column that captures the age groups. According to the [Statistics of Canada](https://www.statcan.gc.ca/en/concepts/definitions/age2) age groups or Categories can be broken down into:\n",
    "1. Children (00-14 years).\n",
    "2. Youth (15-24 years).\n",
    "3. Adults (25-64 years).\n",
    "4. Seniors (65 years and over).\n",
    "\n",
    "For my project i decided to capture the age range of 25 to 59 years as adults, and age range 60 and over as seniors."
   ]
  },
  {
   "cell_type": "code",
   "execution_count": 35,
   "id": "7bf6b751",
   "metadata": {},
   "outputs": [],
   "source": [
    "# Create bins (18, 24] as Youth, (24, 60] as Adult, and (60, 141] as Seniors\n",
    "bins = [18, 24, 60, 141]\n",
    "labels = ['Youth', 'Adult', 'Seniors']\n",
    "gobike_clean['Age_class'] = pd.cut(gobike_clean['Age'], bins=bins, labels=labels, include_lowest=True)"
   ]
  },
  {
   "cell_type": "code",
   "execution_count": 36,
   "id": "6f4fec9b",
   "metadata": {},
   "outputs": [
    {
     "data": {
      "text/plain": [
       "Adult      156731\n",
       "Youth       22954\n",
       "Seniors      3530\n",
       "Name: Age_class, dtype: int64"
      ]
     },
     "execution_count": 36,
     "metadata": {},
     "output_type": "execute_result"
    }
   ],
   "source": [
    "gobike_clean['Age_class'].value_counts()"
   ]
  },
  {
   "cell_type": "markdown",
   "id": "e8d7cfe0",
   "metadata": {},
   "source": [
    "#### Test:"
   ]
  },
  {
   "cell_type": "code",
   "execution_count": 37,
   "id": "480ed2ce",
   "metadata": {
    "slideshow": {
     "slide_type": "slide"
    }
   },
   "outputs": [
    {
     "data": {
      "text/html": [
       "<div>\n",
       "<style scoped>\n",
       "    .dataframe tbody tr th:only-of-type {\n",
       "        vertical-align: middle;\n",
       "    }\n",
       "\n",
       "    .dataframe tbody tr th {\n",
       "        vertical-align: top;\n",
       "    }\n",
       "\n",
       "    .dataframe thead th {\n",
       "        text-align: right;\n",
       "    }\n",
       "</style>\n",
       "<table border=\"1\" class=\"dataframe\">\n",
       "  <thead>\n",
       "    <tr style=\"text-align: right;\">\n",
       "      <th></th>\n",
       "      <th>Hour_of_day_start</th>\n",
       "      <th>Hour_of_day_end</th>\n",
       "      <th>Age</th>\n",
       "      <th>Age_class</th>\n",
       "      <th>period_of_day</th>\n",
       "    </tr>\n",
       "  </thead>\n",
       "  <tbody>\n",
       "    <tr>\n",
       "      <th>0</th>\n",
       "      <td>17</td>\n",
       "      <td>8</td>\n",
       "      <td>35.0</td>\n",
       "      <td>Adult</td>\n",
       "      <td>Evening</td>\n",
       "    </tr>\n",
       "    <tr>\n",
       "      <th>1</th>\n",
       "      <td>18</td>\n",
       "      <td>6</td>\n",
       "      <td>32.0</td>\n",
       "      <td>Adult</td>\n",
       "      <td>Evening</td>\n",
       "    </tr>\n",
       "    <tr>\n",
       "      <th>2</th>\n",
       "      <td>12</td>\n",
       "      <td>5</td>\n",
       "      <td>47.0</td>\n",
       "      <td>Adult</td>\n",
       "      <td>Noon</td>\n",
       "    </tr>\n",
       "    <tr>\n",
       "      <th>3</th>\n",
       "      <td>17</td>\n",
       "      <td>4</td>\n",
       "      <td>30.0</td>\n",
       "      <td>Adult</td>\n",
       "      <td>Evening</td>\n",
       "    </tr>\n",
       "    <tr>\n",
       "      <th>4</th>\n",
       "      <td>23</td>\n",
       "      <td>0</td>\n",
       "      <td>45.0</td>\n",
       "      <td>Adult</td>\n",
       "      <td>Night</td>\n",
       "    </tr>\n",
       "  </tbody>\n",
       "</table>\n",
       "</div>"
      ],
      "text/plain": [
       "   Hour_of_day_start  Hour_of_day_end   Age Age_class period_of_day\n",
       "0                 17                8  35.0     Adult       Evening\n",
       "1                 18                6  32.0     Adult       Evening\n",
       "2                 12                5  47.0     Adult          Noon\n",
       "3                 17                4  30.0     Adult       Evening\n",
       "4                 23                0  45.0     Adult         Night"
      ]
     },
     "execution_count": 37,
     "metadata": {},
     "output_type": "execute_result"
    }
   ],
   "source": [
    "gobike_clean[['Hour_of_day_start', 'Hour_of_day_end', 'Age', 'Age_class','period_of_day']].head()"
   ]
  },
  {
   "cell_type": "code",
   "execution_count": 38,
   "id": "563b8432",
   "metadata": {
    "slideshow": {
     "slide_type": "skip"
    }
   },
   "outputs": [
    {
     "data": {
      "text/plain": [
       "['Evening', 'Noon', 'Night', 'Morning', 'Late Night', 'Early Morning']\n",
       "Categories (6, object): ['Early Morning' < 'Morning' < 'Noon' < 'Evening' < 'Night' < 'Late Night']"
      ]
     },
     "execution_count": 38,
     "metadata": {},
     "output_type": "execute_result"
    }
   ],
   "source": [
    "gobike_clean['period_of_day'].unique()"
   ]
  },
  {
   "cell_type": "markdown",
   "id": "fd5b5a1a",
   "metadata": {
    "slideshow": {
     "slide_type": "slide"
    }
   },
   "source": [
    "## Data Analysis\n",
    "\n",
    "1. What is the percentage of riders that are customers and Subscribers?\n",
    "2. Which gender type is most common among riders?.\n",
    "3. What is the percentage of riders that share bike?\n",
    "4. When are most trips taken in terms of time of day, period of the day, day of the week?\n",
    "5. Which Age group is the most common among riders?\n",
    "6. How long does the average trip take?\n",
    "7. Does the average trip taken depend on if a user is a subscriber or customer?\n",
    "8. Which stations are most popular?\n",
    "9. At what point do we need to check or service bike in the sharing system?\n",
    "10. Heatmap visualization of each cooridinate of bike stations?"
   ]
  },
  {
   "cell_type": "markdown",
   "id": "1b20400a",
   "metadata": {
    "slideshow": {
     "slide_type": "slide"
    }
   },
   "source": [
    "### 1. What is the percentage of riders that are customers and Subscribers?"
   ]
  },
  {
   "cell_type": "code",
   "execution_count": 39,
   "id": "ffcdcf0b",
   "metadata": {
    "slideshow": {
     "slide_type": "skip"
    }
   },
   "outputs": [],
   "source": [
    "def pie_plot(col_name, title, color=['#157fa1','#a4daeb']):\n",
    "    \"\"\"\n",
    "    Create pie plot.\n",
    "    \n",
    "    Parameters\n",
    "    ----------\n",
    "    col_name : str\n",
    "        Takes in a string containing the name of the column in a DataFrame to be plotted.\n",
    "    title : str\n",
    "        Takes in a string containing the title of the plot.\n",
    "    color : str\n",
    "        Takes a string corespounding to the valid colors given in Matplotlib libary.\n",
    "    \"\"\"\n",
    "    plt.figure(figsize=[8,8])\n",
    "    sort_count = gobike_clean[col_name].value_counts()\n",
    "    plt.pie(sort_count, labels=sort_count.index,autopct=\"%.1f%%\", \n",
    "            pctdistance=0.77, startangle=90, \n",
    "            counterclock=False, wedgeprops={'width': 0.4},\n",
    "           textprops={'fontsize': 12, 'family':'cursive','va':'baseline'}, colors=color)\n",
    "    plt.title(title, fontdict={'fontsize': 14});"
   ]
  },
  {
   "cell_type": "markdown",
   "id": "1992def7",
   "metadata": {
    "slideshow": {
     "slide_type": "slide"
    }
   },
   "source": [
    "Why is finding the percentage of user type important, This is because it indicates whether users are \"registered\" member or a \"casual\" rider.\n",
    "The user type column has two unique values which are:\n",
    "1. Subscriber: These are registered members.\n",
    "2. Customer: These are casual riders."
   ]
  },
  {
   "cell_type": "code",
   "execution_count": 40,
   "id": "96c6d91d",
   "metadata": {
    "slideshow": {
     "slide_type": "subslide"
    }
   },
   "outputs": [
    {
     "data": {
      "image/png": "[encoded data removed]",
      "text/plain": [
       "<Figure size 576x576 with 1 Axes>"
      ]
     },
     "metadata": {},
     "output_type": "display_data"
    }
   ],
   "source": [
    "pie_plot('user_type', title=\"Percentage Distribution of User Type\")"
   ]
  },
  {
   "cell_type": "markdown",
   "id": "4a32e07e",
   "metadata": {
    "slideshow": {
     "slide_type": "slide"
    }
   },
   "source": [
    "#### Report:\n",
    "\n",
    "From the plot above we can see that Subsribers make up the majority of the dataset with 89.2%, while customers make up 10.8% of the data. Therefore, we can say that majority of riders are registered. To illustrate 17 out of 20 riders are registered members."
   ]
  },
  {
   "cell_type": "markdown",
   "id": "068064ef",
   "metadata": {
    "slideshow": {
     "slide_type": "slide"
    }
   },
   "source": [
    "### 2. Which gender type is most common among riders?."
   ]
  },
  {
   "cell_type": "code",
   "execution_count": 41,
   "id": "1d092e4a",
   "metadata": {
    "slideshow": {
     "slide_type": "subslide"
    }
   },
   "outputs": [
    {
     "data": {
      "image/png": "[encoded data removed]",
      "text/plain": [
       "<Figure size 576x576 with 1 Axes>"
      ]
     },
     "metadata": {},
     "output_type": "display_data"
    }
   ],
   "source": [
    "pie_plot('member_gender', title=\"Percentage Distribution of Gender Types\", color=['#157fa1','#a4daeb', '#ccefff'])"
   ]
  },
  {
   "cell_type": "markdown",
   "id": "153471f0",
   "metadata": {
    "slideshow": {
     "slide_type": "slide"
    }
   },
   "source": [
    "#### Report\n",
    "I was expecting an even distribution of male and female riders, but from the visualization of the data, we can see that male riders make up 71.2% of the entire data set. These means that out of every 10 riders about 7 are male, 2 are female, and 1 is other. Since Men form the majority of riders in the data set, does this mean that they also ride on an average longer time duration then Women and Others?."
   ]
  },
  {
   "cell_type": "markdown",
   "id": "192fe954",
   "metadata": {
    "slideshow": {
     "slide_type": "slide"
    }
   },
   "source": [
    "### 3. What is the percentage of riders that share bike?"
   ]
  },
  {
   "cell_type": "code",
   "execution_count": 42,
   "id": "5638cad9",
   "metadata": {
    "slideshow": {
     "slide_type": "subslide"
    }
   },
   "outputs": [
    {
     "data": {
      "image/png": "[encoded data removed]",
      "text/plain": [
       "<Figure size 576x576 with 1 Axes>"
      ]
     },
     "metadata": {},
     "output_type": "display_data"
    }
   ],
   "source": [
    "pie_plot('bike_share_for_all_trip', title=\"Percentage Distribution of Riders Who Share Bike\")"
   ]
  },
  {
   "cell_type": "markdown",
   "id": "5104ed48",
   "metadata": {
    "slideshow": {
     "slide_type": "slide"
    }
   },
   "source": [
    "#### Report\n",
    "From the pie plot we can see that majority of the dataset with about 90.5% of riders do not share bike, while the manority of 9.5% share bikes. This raises the question are customers allowed to share bikes, or is the right to share bike only given to subcribers?. We have already seen that majority of the data set are Subcribers so does that also influence the result here?."
   ]
  },
  {
   "cell_type": "markdown",
   "id": "0a5ac8f3",
   "metadata": {
    "slideshow": {
     "slide_type": "slide"
    }
   },
   "source": [
    "### 4. When are most trips taken in terms of time of day, period of day, and day of the week?"
   ]
  },
  {
   "cell_type": "code",
   "execution_count": 43,
   "id": "b391148a",
   "metadata": {
    "slideshow": {
     "slide_type": "skip"
    }
   },
   "outputs": [],
   "source": [
    "def bar_plot(col, xlabel, title, ylabel='Count', figsize=(12,5), text_fontsize=11):\n",
    "    \"\"\"\n",
    "    Create Bar Plot.\n",
    "    \n",
    "    Parameters\n",
    "    ----------\n",
    "    col : str\n",
    "        Column name from the dataset.\n",
    "    xlabel : str\n",
    "        Label of the x axis.\n",
    "    ylabel : str default {Count}\n",
    "        Label of the y axis.\n",
    "    figsize : tuple of (int, int)\n",
    "        The size of the x and y axis of the plot.\n",
    "    text_fontsize : int\n",
    "       The text font size.  \n",
    "    \"\"\"\n",
    "    plt.rcParams['axes.spines.top'] = False\n",
    "    plt.rcParams['axes.spines.right'] = False\n",
    "    plt.rcParams['figure.figsize'] = figsize\n",
    "    sns.countplot(data=gobike_clean, x=col, color='#267ea3')\n",
    "    loc_y,labels_y = plt.yticks()\n",
    "    y_labels = [\"{:,}\".format(round(loc)) for loc in loc_y]\n",
    "    plt.yticks(loc_y, y_labels, fontfamily='cursive', fontsize=11)\n",
    "    plt.xticks(fontfamily='cursive', fontsize=11)\n",
    "    loc_x, labels_x = plt.xticks()\n",
    "    type_count = gobike_clean[col].value_counts()\n",
    "    \n",
    "    for loc, label in zip(loc_x, labels_x):\n",
    "        index = label.get_text()\n",
    "        confirm = type_count.index[0]\n",
    "        if type(confirm) == str:\n",
    "            value = type_count[index]\n",
    "            total = type_count.sum()\n",
    "            text_str = \"{:.2f}%\".format(value*100 / total)\n",
    "            plt.text(loc, value+1000, text_str,\n",
    "                     fontfamily='cursive', ha='center', \n",
    "                     fontsize=text_fontsize,\n",
    "                     fontweight='semibold')\n",
    "        else:\n",
    "            index = int(index)\n",
    "            value = type_count[index]\n",
    "            total = type_count.sum()\n",
    "            text_str = \"{:.2f}%\".format(value*100 / total)\n",
    "            plt.text(loc, value+1000, text_str, \n",
    "                     fontfamily='cursive', ha='center', \n",
    "                     fontsize=text_fontsize, fontweight='semibold')\n",
    "            \n",
    "    plt.ylabel(ylabel, fontdict={'fontsize': 11})\n",
    "    plt.xlabel(xlabel, fontdict={'fontsize': 11})\n",
    "    plt.title(title, fontdict={'fontsize': 14, 'fontweight':'roman'});"
   ]
  },
  {
   "cell_type": "code",
   "execution_count": 44,
   "id": "aa4f93aa",
   "metadata": {
    "slideshow": {
     "slide_type": "subslide"
    }
   },
   "outputs": [
    {
     "data": {
      "image/png": "[encoded data removed]",
      "text/plain": [
       "<Figure size 1080x360 with 1 Axes>"
      ]
     },
     "metadata": {
      "needs_background": "light"
     },
     "output_type": "display_data"
    }
   ],
   "source": [
    "bar_plot('Hour_of_day_start', xlabel='Hour of Day [24 hour clock]', \n",
    "         title='Bar Plot of the Hour of Day Riders Start Ride', \n",
    "         figsize=(15,5),text_fontsize=8)"
   ]
  },
  {
   "cell_type": "markdown",
   "id": "26ea2f6e",
   "metadata": {
    "slideshow": {
     "slide_type": "slide"
    }
   },
   "source": [
    "#### Report\n",
    "From the plot above we can see that the hour most riders start there riders is at 5pm with 11.92%, and closely followed by 8 am with 11.48%. Close to this two peak times come the 3rd, 4th, 5th, and 6th highest hours in which riders are more like to start a ride. The least time in which riders take a bike ride are at the late hours of the night. "
   ]
  },
  {
   "cell_type": "code",
   "execution_count": 45,
   "id": "ac655b8c",
   "metadata": {
    "slideshow": {
     "slide_type": "subslide"
    }
   },
   "outputs": [
    {
     "data": {
      "image/png": "[encoded data removed]",
      "text/plain": [
       "<Figure size 1080x360 with 1 Axes>"
      ]
     },
     "metadata": {
      "needs_background": "light"
     },
     "output_type": "display_data"
    }
   ],
   "source": [
    "bar_plot('Hour_of_day_end', xlabel='Hour of Day [24 hour clock]', \n",
    "         title='Bar Plot of the Hour of Day Riders End Ride', \n",
    "         figsize=(15,5),text_fontsize=8)"
   ]
  },
  {
   "cell_type": "markdown",
   "id": "125a5eca",
   "metadata": {
    "slideshow": {
     "slide_type": "slide"
    }
   },
   "source": [
    "#### Report\n",
    "The bar plot of the hour of the day riders end there ride looks similar to the bar plot of the hour riders start there ride with only minor differences. What does this mean?. These might have resulted because of the short duration of time in which riders start and end there ride."
   ]
  },
  {
   "cell_type": "code",
   "execution_count": 46,
   "id": "cc4903ba",
   "metadata": {
    "slideshow": {
     "slide_type": "subslide"
    }
   },
   "outputs": [
    {
     "data": {
      "image/png": "[encoded data removed]",
      "text/plain": [
       "<Figure size 720x360 with 1 Axes>"
      ]
     },
     "metadata": {
      "needs_background": "light"
     },
     "output_type": "display_data"
    }
   ],
   "source": [
    "bar_plot('period_of_day', xlabel='Period of Day', title='Bar Plot of the Period of Day', figsize=(10,5))"
   ]
  },
  {
   "cell_type": "markdown",
   "id": "54212e44",
   "metadata": {
    "slideshow": {
     "slide_type": "slide"
    }
   },
   "source": [
    "#### Report \n",
    "I'm not suprised that late nights have the least representation in the data set with 1.11%, most bike riders would be at sleep by this time. But from the visualization the highest bike riders count falls in the evening with 34.21%, next is morning with 29.01%. At these times we expect that most bikes would be in use and common paths taken during riders would be in active use. Also people who work 9 am to 5 pm jobs would more likely take ride early in the morning before work and during the evening after work, These would only account for working days.\n"
   ]
  },
  {
   "cell_type": "code",
   "execution_count": 47,
   "id": "90f7eb96",
   "metadata": {
    "slideshow": {
     "slide_type": "subslide"
    }
   },
   "outputs": [
    {
     "data": {
      "image/png": "[encoded data removed]",
      "text/plain": [
       "<Figure size 864x360 with 1 Axes>"
      ]
     },
     "metadata": {
      "needs_background": "light"
     },
     "output_type": "display_data"
    }
   ],
   "source": [
    "bar_plot(col='day_of_week', xlabel='Period of Day', title='Bar Plot of the Day of the Week')"
   ]
  },
  {
   "cell_type": "markdown",
   "id": "15811685",
   "metadata": {
    "slideshow": {
     "slide_type": "slide"
    }
   },
   "source": [
    "#### Report \n",
    "The output of these plot is not what i expected, I expected that at the begining of the week like Monday would have the least number of ride count, and that the end of the week like Saturday and Sunday would have the most ride count. From the bar plot of the day of the week we can see that Thursday and Tuesday have the most number of rider counts, while the end of the week like Saturday and Sunday have the least ride count with an average of 8.42%. So we can make the assumption that most people take rides during working days."
   ]
  },
  {
   "cell_type": "code",
   "execution_count": 48,
   "id": "e0389e74",
   "metadata": {
    "slideshow": {
     "slide_type": "subslide"
    }
   },
   "outputs": [
    {
     "data": {
      "image/png": "[encoded data removed]",
      "text/plain": [
       "<Figure size 864x360 with 1 Axes>"
      ]
     },
     "metadata": {
      "needs_background": "light"
     },
     "output_type": "display_data"
    }
   ],
   "source": [
    "plt.figure(figsize=(12,5))\n",
    "sns.countplot(data=gobike_clean, x='day_of_week', hue='period_of_day', palette='Blues_d')\n",
    "plt.xlabel('Day of Week')\n",
    "plt.ylabel('Count')\n",
    "plt.legend(title='Period of Day')\n",
    "plt.title('Relation between Day of the Week and Period of Day');"
   ]
  },
  {
   "cell_type": "markdown",
   "id": "07ddf10b",
   "metadata": {
    "slideshow": {
     "slide_type": "slide"
    }
   },
   "source": [
    "#### Report \n",
    "I went futher to explore the relationship between the period of day and day of the week. This what i discovered, I saw similar trend starting from Monday to Friday, were the 1st and 2nd highest counts are in the Evening and Morning and the 3rd is at Noon just as we saw in the visualization of Period of Day. But when it comes to the week end Saturday and Sunday, the trend changes as majority of rides start at Noon. I have an assumtion that the trends we see at the end of the week might be  because people tend to sleep or wake up late at the end of week."
   ]
  },
  {
   "cell_type": "markdown",
   "id": "d582c7bf",
   "metadata": {
    "slideshow": {
     "slide_type": "slide"
    }
   },
   "source": [
    "### 5. Which Age group is the most common among riders?"
   ]
  },
  {
   "cell_type": "code",
   "execution_count": 49,
   "id": "44492c5b",
   "metadata": {
    "slideshow": {
     "slide_type": "subslide"
    }
   },
   "outputs": [
    {
     "data": {
      "image/png": "[encoded data removed]",
      "text/plain": [
       "<Figure size 864x360 with 1 Axes>"
      ]
     },
     "metadata": {
      "needs_background": "light"
     },
     "output_type": "display_data"
    }
   ],
   "source": [
    "bar_plot(col='Age_class', xlabel='Period of Day', title='Bar Plot of the Period of Day')"
   ]
  },
  {
   "cell_type": "markdown",
   "id": "983bbee7",
   "metadata": {
    "slideshow": {
     "slide_type": "slide"
    }
   },
   "source": [
    "#### Report \n",
    "I expected that Adult would make the majority of the data set. From the visualization youths made up 12.5% of the data, Adults made 85.54% of the data, and Seniors made 1.93% of the data set. These means Majority of our data set are Adults and Seniors from age 60 and above only make 1.93%. What might have influence the results we visualizied?, Well i think that the energy levels of Adults and Youth far exceed that of Seniors, Another reason would be hidden in population density of people living in greater San Francisco Bay areas."
   ]
  },
  {
   "cell_type": "markdown",
   "id": "91e7fc47",
   "metadata": {
    "slideshow": {
     "slide_type": "slide"
    }
   },
   "source": [
    "### 6. How long does the average trip take?\n",
    "To answer this question we would divide the question to sub groups. How long does the average trip take for:\n",
    " + all riders?\n",
    " + customers and subscribes?\n",
    " + the different member gender?\n",
    " + different age class?\n",
    " + for those who share bike for all trip?\n",
    " "
   ]
  },
  {
   "cell_type": "code",
   "execution_count": 50,
   "id": "ad0b93c6",
   "metadata": {
    "slideshow": {
     "slide_type": "subslide"
    }
   },
   "outputs": [
    {
     "data": {
      "image/png": "[encoded data removed]",
      "text/plain": [
       "<Figure size 720x360 with 1 Axes>"
      ]
     },
     "metadata": {
      "needs_background": "light"
     },
     "output_type": "display_data"
    }
   ],
   "source": [
    "mean_duration = gobike_clean['duration_sec'].mean()\n",
    "median_duration = gobike_clean['duration_sec'].median()\n",
    "mode_duration = gobike_clean['duration_sec'].mode().values[0]\n",
    "plt.figure(figsize=[10,5])\n",
    "sns.histplot(data=gobike_clean, x='duration_sec')\n",
    "plt.xlim(0, 2000)\n",
    "plt.axvline(mean_duration, color='r', linestyle='--', linewidth=1, label='mean')\n",
    "plt.axvline(median_duration, color='black', linestyle='-.', linewidth=1, label='median')\n",
    "plt.axvline(mode_duration, color='green', linestyle='--', linewidth=1, label='mode')\n",
    "plt.legend(title='Histogram Statistics')\n",
    "min_lim_y, max_lim_y = plt.ylim()\n",
    "labels =['mean','median','mode']\n",
    "x_location = [mean_duration, median_duration, mode_duration]\n",
    "position = [50, 30, 50]\n",
    "for label , loc, position in zip(labels, x_location, position):\n",
    "    plt.text(loc+position, max_lim_y*0.9, '{0}:\\n {1:.2f}'.format(label, loc), fontweight='semibold')\n",
    "plt.xlabel('Duration [sec]')\n",
    "plt.title('Histogram Representation of The Duration in Seconds');"
   ]
  },
  {
   "cell_type": "markdown",
   "id": "0414d96a",
   "metadata": {
    "slideshow": {
     "slide_type": "slide"
    }
   },
   "source": [
    "#### Report\n",
    "From the histogram visualiztion the **mean** and **median** time is **725.9** and **514** seconds, so on an average riders have an average ride ranging from 726 seconds to 514 seconds."
   ]
  },
  {
   "cell_type": "markdown",
   "id": "3603b7b0",
   "metadata": {
    "slideshow": {
     "slide_type": "slide"
    }
   },
   "source": [
    "#### How long does the average trip take for customers and subscribes?"
   ]
  },
  {
   "cell_type": "code",
   "execution_count": 51,
   "id": "9075c49d",
   "metadata": {
    "slideshow": {
     "slide_type": "subslide"
    }
   },
   "outputs": [
    {
     "data": {
      "image/png": "[encoded data removed]",
      "text/plain": [
       "<Figure size 432x432 with 1 Axes>"
      ]
     },
     "metadata": {
      "needs_background": "light"
     },
     "output_type": "display_data"
    }
   ],
   "source": [
    "plt.figure(figsize=[6,6])\n",
    "sns.barplot(data=gobike_clean, x='user_type', y='duration_sec', palette=['#157fa1','#a4daeb'])\n",
    "plt.xlabel('User Type')\n",
    "plt.ylabel('Duration [sec]')\n",
    "plt.title('Average Duration in Seconds for Customers and Subscribes');"
   ]
  },
  {
   "cell_type": "code",
   "execution_count": 52,
   "id": "afe32ccc",
   "metadata": {
    "slideshow": {
     "slide_type": "skip"
    }
   },
   "outputs": [
    {
     "data": {
      "text/html": [
       "<div>\n",
       "<style scoped>\n",
       "    .dataframe tbody tr th:only-of-type {\n",
       "        vertical-align: middle;\n",
       "    }\n",
       "\n",
       "    .dataframe tbody tr th {\n",
       "        vertical-align: top;\n",
       "    }\n",
       "\n",
       "    .dataframe thead th {\n",
       "        text-align: right;\n",
       "    }\n",
       "</style>\n",
       "<table border=\"1\" class=\"dataframe\">\n",
       "  <thead>\n",
       "    <tr style=\"text-align: right;\">\n",
       "      <th></th>\n",
       "      <th>mean</th>\n",
       "      <th>median</th>\n",
       "    </tr>\n",
       "    <tr>\n",
       "      <th>user_type</th>\n",
       "      <th></th>\n",
       "      <th></th>\n",
       "    </tr>\n",
       "  </thead>\n",
       "  <tbody>\n",
       "    <tr>\n",
       "      <th>Customer</th>\n",
       "      <td>1433.475734</td>\n",
       "      <td>791.0</td>\n",
       "    </tr>\n",
       "    <tr>\n",
       "      <th>Subscriber</th>\n",
       "      <td>640.164766</td>\n",
       "      <td>490.0</td>\n",
       "    </tr>\n",
       "  </tbody>\n",
       "</table>\n",
       "</div>"
      ],
      "text/plain": [
       "                   mean  median\n",
       "user_type                      \n",
       "Customer    1433.475734   791.0\n",
       "Subscriber   640.164766   490.0"
      ]
     },
     "execution_count": 52,
     "metadata": {},
     "output_type": "execute_result"
    }
   ],
   "source": [
    "gobike_clean.groupby('user_type')['duration_sec'].agg(['mean', 'median'])"
   ]
  },
  {
   "cell_type": "markdown",
   "id": "f3a49608",
   "metadata": {
    "slideshow": {
     "slide_type": "slide"
    }
   },
   "source": [
    "#### Report\n",
    "On an average customers or casual riders have more rider time than subscriber, with customers having an average of 1433 seconds and subscribers having an average of 490 seconds."
   ]
  },
  {
   "cell_type": "markdown",
   "id": "81b953c3",
   "metadata": {
    "slideshow": {
     "slide_type": "slide"
    }
   },
   "source": [
    "#### How long does the average trip the different member gender?"
   ]
  },
  {
   "cell_type": "code",
   "execution_count": 53,
   "id": "dba3a022",
   "metadata": {
    "slideshow": {
     "slide_type": "subslide"
    }
   },
   "outputs": [
    {
     "data": {
      "image/png": "[encoded data removed]",
      "text/plain": [
       "<Figure size 432x432 with 1 Axes>"
      ]
     },
     "metadata": {
      "needs_background": "light"
     },
     "output_type": "display_data"
    }
   ],
   "source": [
    "plt.figure(figsize=[6,6])\n",
    "sns.barplot(data=gobike_clean, x='member_gender', y='duration_sec', palette=['#157fa1','#a4daeb'])\n",
    "plt.xlabel('Member Gender')\n",
    "plt.ylabel('Duration [sec]')\n",
    "plt.title('Average Time Taken by Different Member Gender');"
   ]
  },
  {
   "cell_type": "code",
   "execution_count": 54,
   "id": "b382903a",
   "metadata": {
    "slideshow": {
     "slide_type": "skip"
    }
   },
   "outputs": [
    {
     "data": {
      "text/plain": [
       "member_gender\n",
       "Female     778.872761\n",
       "Male       672.394851\n",
       "Other     1130.705877\n",
       "Name: duration_sec, dtype: float64"
      ]
     },
     "execution_count": 54,
     "metadata": {},
     "output_type": "execute_result"
    }
   ],
   "source": [
    "gobike_clean.groupby('member_gender')['duration_sec'].mean()"
   ]
  },
  {
   "cell_type": "markdown",
   "id": "6b8d5531",
   "metadata": {
    "slideshow": {
     "slide_type": "slide"
    }
   },
   "source": [
    "#### Report \n",
    "Earlier i posed a question since men have the highest ride count does it mean they also spend more time taken riders?. From the visualization the answer is No. We can see that generally spend an average of 672 seconds riding bikes, while women spend about 779 seconds, and Other spend the most time on average with 1131 seconds take rides."
   ]
  },
  {
   "cell_type": "markdown",
   "id": "877d7c5f",
   "metadata": {
    "slideshow": {
     "slide_type": "slide"
    }
   },
   "source": [
    "#### Let's Explore some Relationship between `user_type`, `member_gender`,  `period_of_day`,  `day_of_week`, and `bike_share_for_all_trip`."
   ]
  },
  {
   "cell_type": "markdown",
   "id": "554a4406",
   "metadata": {
    "slideshow": {
     "slide_type": "slide"
    }
   },
   "source": [
    "#### Relationship between `user_type`, `Age_class` and `duration_sec`"
   ]
  },
  {
   "cell_type": "code",
   "execution_count": 55,
   "id": "30680b02",
   "metadata": {
    "slideshow": {
     "slide_type": "subslide"
    }
   },
   "outputs": [
    {
     "name": "stderr",
     "output_type": "stream",
     "text": [
      "C:\\Users\\user\\anaconda3\\lib\\site-packages\\seaborn\\axisgrid.py:670: UserWarning: Using the pointplot function without specifying `order` is likely to produce an incorrect plot.\n",
      "  warnings.warn(warning)\n"
     ]
    },
    {
     "data": {
      "text/plain": [
       "<seaborn.axisgrid.FacetGrid at 0x273a8856df0>"
      ]
     },
     "execution_count": 55,
     "metadata": {},
     "output_type": "execute_result"
    },
    {
     "data": {
      "image/png": "[encoded data removed]",
      "text/plain": [
       "<Figure size 720x360 with 2 Axes>"
      ]
     },
     "metadata": {
      "needs_background": "light"
     },
     "output_type": "display_data"
    }
   ],
   "source": [
    "g = sns.FacetGrid(data=gobike_clean, col='user_type', height=5)\n",
    "g.map(sns.pointplot, 'Age_class','duration_sec')\n",
    "g.set_xlabels('Age Group')\n",
    "g.set_ylabels('Duration [sec]')"
   ]
  },
  {
   "cell_type": "code",
   "execution_count": 56,
   "id": "d39eefcf",
   "metadata": {
    "slideshow": {
     "slide_type": "skip"
    }
   },
   "outputs": [
    {
     "data": {
      "text/plain": [
       "user_type   Age_class\n",
       "Customer    Youth        1588.160034\n",
       "            Adult        1413.104806\n",
       "            Seniors      1383.520619\n",
       "Subscriber  Youth         596.995198\n",
       "            Adult         645.010383\n",
       "            Seniors       704.389089\n",
       "Name: duration_sec, dtype: float64"
      ]
     },
     "execution_count": 56,
     "metadata": {},
     "output_type": "execute_result"
    }
   ],
   "source": [
    "gobike_clean.groupby(['user_type','Age_class'])['duration_sec'].mean()"
   ]
  },
  {
   "cell_type": "markdown",
   "id": "11ebf19d",
   "metadata": {
    "slideshow": {
     "slide_type": "slide"
    }
   },
   "source": [
    "#### Report\n",
    "Woe i instantly noticed the linear relationship of Subscriber age group with duration. Form the age group youth there is a gradual increase in duration down to the seniors age group."
   ]
  },
  {
   "cell_type": "markdown",
   "id": "1a46621c",
   "metadata": {
    "slideshow": {
     "slide_type": "slide"
    }
   },
   "source": [
    "#### Relationship between `user_type`, `period_of_day` and `duration_sec`"
   ]
  },
  {
   "cell_type": "code",
   "execution_count": 57,
   "id": "c9451914",
   "metadata": {
    "slideshow": {
     "slide_type": "subslide"
    }
   },
   "outputs": [
    {
     "name": "stderr",
     "output_type": "stream",
     "text": [
      "C:\\Users\\user\\anaconda3\\lib\\site-packages\\seaborn\\axisgrid.py:670: UserWarning: Using the pointplot function without specifying `order` is likely to produce an incorrect plot.\n",
      "  warnings.warn(warning)\n"
     ]
    },
    {
     "data": {
      "text/plain": [
       "<seaborn.axisgrid.FacetGrid at 0x273acb4d4c0>"
      ]
     },
     "execution_count": 57,
     "metadata": {},
     "output_type": "execute_result"
    },
    {
     "data": {
      "image/png": "[encoded data removed]",
      "text/plain": [
       "<Figure size 864x432 with 2 Axes>"
      ]
     },
     "metadata": {
      "needs_background": "light"
     },
     "output_type": "display_data"
    }
   ],
   "source": [
    "g = sns.FacetGrid(data=gobike_clean, col='user_type', height=6)\n",
    "g.map(sns.pointplot, 'period_of_day','duration_sec')\n",
    "g.set_xlabels('Period of Day')\n",
    "g.set_ylabels('Duration [sec]')"
   ]
  },
  {
   "cell_type": "code",
   "execution_count": 58,
   "id": "c4a7c2e4",
   "metadata": {
    "slideshow": {
     "slide_type": "skip"
    }
   },
   "outputs": [
    {
     "data": {
      "text/plain": [
       "user_type   period_of_day\n",
       "Customer    Early Morning     987.992330\n",
       "            Morning          1293.154459\n",
       "            Noon             1782.766506\n",
       "            Evening          1287.924852\n",
       "            Night            1543.550554\n",
       "            Late Night       1834.197479\n",
       "Subscriber  Early Morning     570.733042\n",
       "            Morning           636.160767\n",
       "            Noon              684.642534\n",
       "            Evening           638.832267\n",
       "            Night             618.509613\n",
       "            Late Night        786.334824\n",
       "Name: duration_sec, dtype: float64"
      ]
     },
     "execution_count": 58,
     "metadata": {},
     "output_type": "execute_result"
    }
   ],
   "source": [
    "gobike_clean.groupby(['user_type', 'period_of_day'])['duration_sec'].mean()"
   ]
  },
  {
   "cell_type": "markdown",
   "id": "d22da19a",
   "metadata": {
    "slideshow": {
     "slide_type": "slide"
    }
   },
   "source": [
    "#### Report \n",
    "The visualization of `user_type`, `period_of_day`, and `duration` i also noticed a trend between `user_type` Customer and `user_tye` Subscriber, that been that the highest average duration of bike ride fell at noon and late night. Notice that even though late night had the least representation by popularity, it has the highest average duration with 1834 for customers and 786 for subscribers. The trend am noticing is that the least represented population have higher average duration of time spent riding."
   ]
  },
  {
   "cell_type": "markdown",
   "id": "b654287c",
   "metadata": {
    "slideshow": {
     "slide_type": "slide"
    }
   },
   "source": [
    "#### Relationship between `member_gender`, `day_of_week` and `duration_sec`"
   ]
  },
  {
   "cell_type": "code",
   "execution_count": 59,
   "id": "3f123064",
   "metadata": {
    "slideshow": {
     "slide_type": "slide"
    }
   },
   "outputs": [
    {
     "name": "stderr",
     "output_type": "stream",
     "text": [
      "C:\\Users\\user\\anaconda3\\lib\\site-packages\\seaborn\\axisgrid.py:670: UserWarning: Using the pointplot function without specifying `order` is likely to produce an incorrect plot.\n",
      "  warnings.warn(warning)\n"
     ]
    },
    {
     "data": {
      "text/plain": [
       "<seaborn.axisgrid.FacetGrid at 0x273aa496d60>"
      ]
     },
     "execution_count": 59,
     "metadata": {},
     "output_type": "execute_result"
    },
    {
     "data": {
      "image/png": "[encoded data removed]",
      "text/plain": [
       "<Figure size 1296x432 with 3 Axes>"
      ]
     },
     "metadata": {
      "needs_background": "light"
     },
     "output_type": "display_data"
    }
   ],
   "source": [
    "g = sns.FacetGrid(data=gobike_clean, col='member_gender', height=6)\n",
    "g.map(sns.pointplot, 'day_of_week','duration_sec')\n",
    "g.set_xlabels('Day_of_week')\n",
    "g.set_ylabels('Duration [sec]');"
   ]
  },
  {
   "cell_type": "code",
   "execution_count": 60,
   "id": "1652432a",
   "metadata": {
    "slideshow": {
     "slide_type": "skip"
    }
   },
   "outputs": [
    {
     "data": {
      "text/plain": [
       "member_gender  day_of_week\n",
       "Female         Monday          785.126680\n",
       "               Tuesday         721.625844\n",
       "               Wednesday       739.645865\n",
       "               Thursday        750.383132\n",
       "               Friday          750.159980\n",
       "               Saturday        875.507973\n",
       "               Sunday          977.237815\n",
       "Male           Monday          663.207315\n",
       "               Tuesday         627.142029\n",
       "               Wednesday       635.010014\n",
       "               Thursday        643.620405\n",
       "               Friday          654.846165\n",
       "               Saturday        833.361307\n",
       "               Sunday          801.795063\n",
       "Other          Monday         1032.991770\n",
       "               Tuesday         889.807277\n",
       "               Wednesday       893.418722\n",
       "               Thursday       1139.608577\n",
       "               Friday          971.683874\n",
       "               Saturday       1547.112941\n",
       "               Sunday         1707.706818\n",
       "Name: duration_sec, dtype: float64"
      ]
     },
     "execution_count": 60,
     "metadata": {},
     "output_type": "execute_result"
    }
   ],
   "source": [
    "gobike_clean.groupby(['member_gender','day_of_week'])['duration_sec'].mean()\n"
   ]
  },
  {
   "cell_type": "markdown",
   "id": "f2f02640",
   "metadata": {
    "slideshow": {
     "slide_type": "slide"
    }
   },
   "source": [
    "#### Report \n",
    "We can see that the least represented population `member_gender` **Other** and `day_of_week` **Saturday** and **Sunday** have the highest average duration with **1547** and **1707** seconds. We can also see that these also applies to other member gender Male and Female on week day Saturday and Sunday."
   ]
  },
  {
   "cell_type": "markdown",
   "id": "b7a9083f",
   "metadata": {
    "slideshow": {
     "slide_type": "slide"
    }
   },
   "source": [
    "#### Relationship between `user_type`, `bike_share_for_all_trip` and `duration_sec`"
   ]
  },
  {
   "cell_type": "code",
   "execution_count": 61,
   "id": "63c9b386",
   "metadata": {
    "slideshow": {
     "slide_type": "subslide"
    }
   },
   "outputs": [
    {
     "name": "stderr",
     "output_type": "stream",
     "text": [
      "C:\\Users\\user\\anaconda3\\lib\\site-packages\\seaborn\\axisgrid.py:670: UserWarning: Using the barplot function without specifying `order` is likely to produce an incorrect plot.\n",
      "  warnings.warn(warning)\n"
     ]
    },
    {
     "data": {
      "text/plain": [
       "<seaborn.axisgrid.FacetGrid at 0x273a8a899d0>"
      ]
     },
     "execution_count": 61,
     "metadata": {},
     "output_type": "execute_result"
    },
    {
     "data": {
      "image/png": "[encoded data removed]",
      "text/plain": [
       "<Figure size 576x288 with 2 Axes>"
      ]
     },
     "metadata": {
      "needs_background": "light"
     },
     "output_type": "display_data"
    }
   ],
   "source": [
    "g = sns.FacetGrid(data=gobike_clean, col='user_type', height=4)\n",
    "g.map(sns.barplot, 'bike_share_for_all_trip','duration_sec')\n",
    "g.set_xlabels('Bike Share for all Trip')\n",
    "g.set_ylabels('Duration [sec]');"
   ]
  },
  {
   "cell_type": "code",
   "execution_count": 62,
   "id": "59dde796",
   "metadata": {
    "slideshow": {
     "slide_type": "skip"
    }
   },
   "outputs": [
    {
     "data": {
      "text/plain": [
       "user_type   bike_share_for_all_trip\n",
       "Customer    No                         1433.475734\n",
       "Subscriber  No                          634.959498\n",
       "            Yes                         683.997521\n",
       "Name: duration_sec, dtype: float64"
      ]
     },
     "execution_count": 62,
     "metadata": {},
     "output_type": "execute_result"
    }
   ],
   "source": [
    "gobike_clean.groupby(['user_type', 'bike_share_for_all_trip'])['duration_sec'].mean()"
   ]
  },
  {
   "cell_type": "markdown",
   "id": "b9f5917b",
   "metadata": {
    "slideshow": {
     "slide_type": "slide"
    }
   },
   "source": [
    "#### Report \n",
    "I posed a question when reporting my findings on percentage of riders who share bike?. Are customers allowed to share bikes, or is the right to share bike only given to subcribers?. This visualization answers the question and more. First from the visualization Customers do not share bike, Secondly Customer who do not share bike have an average of about 1400 seconds greater than Suscribers who fall at an average of about 650 seconds."
   ]
  },
  {
   "cell_type": "markdown",
   "id": "e75ab5e0",
   "metadata": {
    "slideshow": {
     "slide_type": "slide"
    }
   },
   "source": [
    "#### How long does the average trip take for different age class?"
   ]
  },
  {
   "cell_type": "code",
   "execution_count": 63,
   "id": "4d07e6d0",
   "metadata": {
    "slideshow": {
     "slide_type": "subslide"
    }
   },
   "outputs": [
    {
     "data": {
      "text/plain": [
       "<AxesSubplot:xlabel='Age_class', ylabel='duration_sec'>"
      ]
     },
     "execution_count": 63,
     "metadata": {},
     "output_type": "execute_result"
    },
    {
     "data": {
      "image/png": "[encoded data removed]",
      "text/plain": [
       "<Figure size 432x432 with 1 Axes>"
      ]
     },
     "metadata": {
      "needs_background": "light"
     },
     "output_type": "display_data"
    }
   ],
   "source": [
    "plt.figure(figsize=[6,6])\n",
    "sns.barplot(data=gobike_clean, x='Age_class', y='duration_sec', palette=['#157fa1','#a4daeb'])\n",
    "plt.xlabel('Age Group')\n",
    "plt.title('Bar Plot of Age Group');"
   ]
  },
  {
   "cell_type": "markdown",
   "id": "435c777c",
   "metadata": {
    "slideshow": {
     "slide_type": "slide"
    }
   },
   "source": [
    "#### Report \n",
    "From the visualization above we can see that there is little difference in average duration between each age group, with an average corresponding to average total time of all riders 700 seconds. "
   ]
  },
  {
   "cell_type": "markdown",
   "id": "2a11d8f2",
   "metadata": {
    "slideshow": {
     "slide_type": "slide"
    }
   },
   "source": [
    "### 8.  Which stations are most popular?"
   ]
  },
  {
   "cell_type": "code",
   "execution_count": null,
   "id": "27f6dae3",
   "metadata": {
    "slideshow": {
     "slide_type": "skip"
    }
   },
   "outputs": [],
   "source": [
    "station_start = gobike_clean['start_station_name'].value_counts()\n",
    "station_start[:10]"
   ]
  },
  {
   "cell_type": "code",
   "execution_count": null,
   "id": "a9a547d6",
   "metadata": {
    "slideshow": {
     "slide_type": "skip"
    }
   },
   "outputs": [],
   "source": [
    "station_start.iloc[-10:]"
   ]
  },
  {
   "cell_type": "code",
   "execution_count": null,
   "id": "87e43b4d",
   "metadata": {
    "slideshow": {
     "slide_type": "skip"
    }
   },
   "outputs": [],
   "source": [
    "station_end = gobike_clean['end_station_name'].value_counts()\n",
    "station_end[:10]"
   ]
  },
  {
   "cell_type": "code",
   "execution_count": null,
   "id": "4f6081ca",
   "metadata": {
    "slideshow": {
     "slide_type": "skip"
    }
   },
   "outputs": [],
   "source": [
    "station_end[-10:]"
   ]
  },
  {
   "cell_type": "code",
   "execution_count": null,
   "id": "167bfca3",
   "metadata": {
    "slideshow": {
     "slide_type": "skip"
    }
   },
   "outputs": [],
   "source": [
    "print('Start station: ', len(station_start))\n",
    "print('End station: ', len(station_end))"
   ]
  },
  {
   "cell_type": "code",
   "execution_count": null,
   "id": "8ed7059b",
   "metadata": {
    "slideshow": {
     "slide_type": "skip"
    }
   },
   "outputs": [],
   "source": [
    "station = {}\n",
    "for i, row in gobike_clean.iterrows():\n",
    "    col_name = ['start_station_name', 'end_station_name']\n",
    "    for col in col_name:\n",
    "        station_name = row[col]\n",
    "        if station_name not in station:\n",
    "            station[station_name] = 1\n",
    "        else:\n",
    "            station[station_name] += 1\n",
    "            "
   ]
  },
  {
   "cell_type": "code",
   "execution_count": null,
   "id": "6b982a24",
   "metadata": {
    "slideshow": {
     "slide_type": "skip"
    }
   },
   "outputs": [],
   "source": [
    "station = pd.Series(station)\n",
    "station"
   ]
  },
  {
   "cell_type": "code",
   "execution_count": null,
   "id": "dca53fc8",
   "metadata": {
    "slideshow": {
     "slide_type": "skip"
    }
   },
   "outputs": [],
   "source": [
    "top_stations = station.sort_values()[-10:]"
   ]
  },
  {
   "cell_type": "code",
   "execution_count": null,
   "id": "233edcbc",
   "metadata": {
    "slideshow": {
     "slide_type": "subslide"
    }
   },
   "outputs": [],
   "source": [
    "plt.rcParams['axes.spines.bottom'] = True\n",
    "plt.barh(top_stations.index, top_stations.values)\n",
    "for index, values in enumerate(top_stations):\n",
    "    text = \"{}\".format(values)\n",
    "    plt.text(values-400, index, text, va='center',color='white', fontweight='bold')\n",
    "    \n",
    "plt.xlabel('Count')\n",
    "plt.title('Top 10 Stations in the Dataset'); "
   ]
  },
  {
   "cell_type": "markdown",
   "id": "f3118271",
   "metadata": {
    "slideshow": {
     "slide_type": "slide"
    }
   },
   "source": [
    "### 9. At what point do we need to check or service a bike in the sharing system?"
   ]
  },
  {
   "cell_type": "code",
   "execution_count": null,
   "id": "1de4c306",
   "metadata": {
    "slideshow": {
     "slide_type": "skip"
    }
   },
   "outputs": [],
   "source": [
    "total_bike_sec = gobike_clean.groupby('bike_id')['duration_sec'].sum().sort_values()\n",
    "total_bike_sec\n"
   ]
  },
  {
   "cell_type": "code",
   "execution_count": null,
   "id": "b2dcd2cb",
   "metadata": {
    "slideshow": {
     "slide_type": "skip"
    }
   },
   "outputs": [],
   "source": [
    "total_bike_sec.describe()"
   ]
  },
  {
   "cell_type": "code",
   "execution_count": null,
   "id": "08012e7a",
   "metadata": {
    "slideshow": {
     "slide_type": "skip"
    }
   },
   "outputs": [],
   "source": [
    "mean_bike = total_bike_sec.describe()[1]\n",
    "upper_bond_bike = (total_bike_sec.describe()[-2] - total_bike_sec.describe()[-4]) * 1.5"
   ]
  },
  {
   "cell_type": "code",
   "execution_count": null,
   "id": "32f98638",
   "metadata": {
    "slideshow": {
     "slide_type": "subslide"
    }
   },
   "outputs": [],
   "source": [
    "plt.plot(total_bike_sec.values)\n",
    "plt.axhline(mean_bike, color='black', linestyle='-.', linewidth=1, label='Mean')\n",
    "plt.axhline(upper_bond_bike, color='orange', linestyle='-', linewidth=1, label='Upper bond')\n",
    "plt.axhspan(0, mean_bike, facecolor='green', alpha=0.3, label='Good Usage')\n",
    "plt.axhspan(mean_bike, upper_bond_bike, facecolor='yellow', alpha=0.2, label='Moderate Usage')\n",
    "plt.axhspan(upper_bond_bike,total_bike_sec.max(), facecolor='red', alpha=0.1, label='Heavy Usage')\n",
    "plt.legend()\n",
    "plt.ylabel('Duration [sec]')\n",
    "plt.xlabel('Count')\n",
    "plt.title('Visual Representation of Bike Usage');"
   ]
  },
  {
   "cell_type": "markdown",
   "id": "c066db12",
   "metadata": {
    "slideshow": {
     "slide_type": "slide"
    }
   },
   "source": [
    "#### Report\n",
    "This visualization was done to show the usage of bike id's and there total time duration in seconds within the months of Feburary and March 2019. With this graph, stations can determine when a bike should be checked or repaired. The area coloured green represence Good usage, the area coloured yellow represence Moderate bike usage, and the area coloured red represence bikes with heavy usage."
   ]
  },
  {
   "cell_type": "markdown",
   "id": "5e891e44",
   "metadata": {
    "slideshow": {
     "slide_type": "slide"
    }
   },
   "source": [
    "### 10. Heatmap visualization of each cooridinate of bike stations?"
   ]
  },
  {
   "cell_type": "code",
   "execution_count": null,
   "id": "ba59d2e2",
   "metadata": {
    "slideshow": {
     "slide_type": "skip"
    }
   },
   "outputs": [],
   "source": [
    "m = folium.Map([37.8272, -122.2913], zoom_start=9)"
   ]
  },
  {
   "cell_type": "code",
   "execution_count": null,
   "id": "b7913dee",
   "metadata": {
    "scrolled": true,
    "slideshow": {
     "slide_type": "subslide"
    }
   },
   "outputs": [],
   "source": [
    "coordinate = [tuple(x) for x in gobike_clean[['start_station_latitude', 'start_station_longitude']].to_numpy()]\n",
    "m.add_child(plugins.HeatMap(coordinate, radius=15))\n",
    "m"
   ]
  },
  {
   "cell_type": "markdown",
   "id": "4e8aced9",
   "metadata": {
    "slideshow": {
     "slide_type": "slide"
    }
   },
   "source": [
    "#### Report\n",
    "From the visualization of the stations geographic location, we can see that stations are majorly seperated into 3 geographical concentration. Feel free to locate the most popular stations."
   ]
  },
  {
   "cell_type": "markdown",
   "id": "13ba701a",
   "metadata": {
    "slideshow": {
     "slide_type": "slide"
    }
   },
   "source": [
    "<a id=\"conclusions\"></a>\n",
    "## Conclusions\n",
    "\n",
    "These project has successfully analized different features from the data set. I analized the popularity of different categorical variable with the result been that the most popular:\n",
    "- Member gender are Males with a popularity of over 70 percent.\n",
    "- Day of the week is Thursday.\n",
    "- Hour of the day to start a ride is at 5 pm.\n",
    "- Period of the day are during evenings.\n",
    "- Age group are adults.\n",
    "\n",
    "One relationship i found while investigating this data set is that categories that were least represented had higher average time duration than the most popular categories.\n"
   ]
  },
  {
   "cell_type": "markdown",
   "id": "d2ae303e",
   "metadata": {
    "slideshow": {
     "slide_type": "slide"
    }
   },
   "source": [
    "<a id=\"limitation\"></a>\n",
    "## Project Limitations\n",
    "\n",
    "These are some limitations that be further reasearched on.\n",
    "\n",
    "1. No predictive algorithms was used in these project.\n",
    "2. While clean the missing station names, a better approach could have been implimented by finding the nearest know station cooridinate to that location and then matching the station name to the missing stations, instead i droped all missing values.\n",
    "3. The project could have explored more goegraphical maps e.g.(visualization of the top 10 stations with custom markers, and the most popular routes to take while taken in ride)\n"
   ]
  },
  {
   "cell_type": "code",
   "execution_count": null,
   "id": "46137abd",
   "metadata": {
    "slideshow": {
     "slide_type": "skip"
    }
   },
   "outputs": [],
   "source": [
    "# The command below will generate the HTML slideshow.\n",
    "!jupyter nbconvert Main_Project.ipynb --to slides --post serve --no-input --no-prompt"
   ]
  },
  {
   "cell_type": "markdown",
   "id": "9276bc5f",
   "metadata": {
    "slideshow": {
     "slide_type": "skip"
    }
   },
   "source": [
    "<a id=\"ref\"></a>\n",
    "## Refrences\n",
    "\n",
    "- https://stackoverflow.com/questions/16180946/drawing-average-line-in-histogram-matplotlib\n",
    "\n",
    "- https://stackoverflow.com/questions/9957637/how-can-i-set-the-background-color-on-specific-areas-of-a-pyplot-figure"
   ]
  }
 ],
 "metadata": {
  "celltoolbar": "Slideshow",
  "kernelspec": {
   "display_name": "Python 3 (ipykernel)",
   "language": "python",
   "name": "python3"
  },
  "language_info": {
   "codemirror_mode": {
    "name": "ipython",
    "version": 3
   },
   "file_extension": ".py",
   "mimetype": "text/x-python",
   "name": "python",
   "nbconvert_exporter": "python",
   "pygments_lexer": "ipython3",
   "version": "3.9.7"
  }
 },
 "nbformat": 4,
 "nbformat_minor": 5
}
